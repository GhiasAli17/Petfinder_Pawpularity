{
 "cells": [
  {
   "cell_type": "code",
   "execution_count": null,
   "id": "d1f14085",
   "metadata": {},
   "outputs": [
    {
     "name": "stderr",
     "output_type": "stream",
     "text": [
      "c:\\Users\\user\\AppData\\Local\\Programs\\Python\\Python313\\Lib\\site-packages\\tqdm\\auto.py:21: TqdmWarning: IProgress not found. Please update jupyter and ipywidgets. See https://ipywidgets.readthedocs.io/en/stable/user_install.html\n",
      "  from .autonotebook import tqdm as notebook_tqdm\n"
     ]
    }
   ],
   "source": [
    "\n",
    "# Auto-reload external modules when their source changes\n",
    "%load_ext autoreload\n",
    "%autoreload 2\n",
    "\n",
    "\n",
    "import utils.helpers as helpers\n",
    "\n",
    "import torch\n",
    "import torch.nn as nn\n",
    "import torch.nn.functional as F\n",
    "from torch.utils.data import Dataset, DataLoader\n",
    "import pandas as pd\n",
    "import numpy as np\n",
    "from sklearn.model_selection import StratifiedKFold\n",
    "from pathlib import Path\n",
    "import timm\n",
    "import cv2  \n",
    "import albumentations as A\n",
    "from albumentations.pytorch import ToTensorV2\n",
    "import json\n",
    "from tqdm import tqdm\n",
    "\n",
    "import warnings\n",
    "import sklearn.exceptions\n",
    "warnings.filterwarnings('ignore', category=DeprecationWarning)\n",
    "warnings.filterwarnings('ignore', category=FutureWarning)\n",
    "warnings.filterwarnings(\"ignore\", category=sklearn.exceptions.UndefinedMetricWarning)\n",
    "warnings.filterwarnings(\"ignore\", category=UserWarning)\n",
    "\n",
    "# Path variables\n",
    "BASE_PATH = \"src/inputs/\"\n",
    "TRAIN_PATH = BASE_PATH + \"train.csv\"\n",
    "TEST_PATH = BASE_PATH + \"test.csv\"\n",
    "\n",
    "\n"
   ]
  },
  {
   "cell_type": "code",
   "execution_count": 2,
   "id": "a05141e3",
   "metadata": {},
   "outputs": [],
   "source": [
    "helpers.set_seeds(999)"
   ]
  },
  {
   "cell_type": "code",
   "execution_count": null,
   "id": "a99a7455",
   "metadata": {},
   "outputs": [],
   "source": [
    "BATCH_SIZE = 32  \n",
    "N_FOLDS = 10\n",
    "EPOCHS = 10\n",
    "LR = 1e-5 \n",
    "IMAGE_SIZE = 224\n",
    "DEVICE = torch.device('cuda' if torch.cuda.is_available() else 'cpu')"
   ]
  },
  {
   "cell_type": "code",
   "execution_count": 4,
   "id": "caaac92c",
   "metadata": {},
   "outputs": [
    {
     "name": "stdout",
     "output_type": "stream",
     "text": [
      "Using device: cuda\n",
      "GPU: NVIDIA GeForce RTX 3060\n",
      "GPU Memory: 12.00 GB\n"
     ]
    }
   ],
   "source": [
    "# GPU Check\n",
    "print(f\"Using device: {DEVICE}\")\n",
    "if torch.cuda.is_available():\n",
    "    print(f\"GPU: {torch.cuda.get_device_name(0)}\")\n",
    "    print(f\"GPU Memory: {torch.cuda.get_device_properties(0).total_memory / 1024**3:.2f} GB\")\n",
    "else:\n",
    "    print(\"WARNING: CUDA not available, using CPU!\")"
   ]
  },
  {
   "cell_type": "code",
   "execution_count": 5,
   "id": "4a2e0fa3",
   "metadata": {},
   "outputs": [
    {
     "name": "stdout",
     "output_type": "stream",
     "text": [
      "Loading Glove Model\n",
      "400000 words loaded!\n"
     ]
    }
   ],
   "source": [
    "def load_glove_model(File):\n",
    "    print(\"Loading Glove Model\")\n",
    "    glove_model = {}\n",
    "    with open(File,'r', encoding='utf-8') as f:\n",
    "        for line in f:\n",
    "            split_line = line.split()\n",
    "            word = split_line[0]\n",
    "            embedding = np.array(split_line[1:], dtype=np.float64)\n",
    "            glove_model[word] = embedding\n",
    "    print(f\"{len(glove_model)} words loaded!\")\n",
    "    return glove_model\n",
    "\n",
    "glove_model = load_glove_model(BASE_PATH+\"glove.6B.50d.txt\")"
   ]
  },
  {
   "cell_type": "code",
   "execution_count": 6,
   "id": "d956ec53",
   "metadata": {},
   "outputs": [],
   "source": [
    "train_df = pd.read_csv(BASE_PATH + \"train.csv\")\n",
    "test_df =  pd.read_csv(BASE_PATH + \"test.csv\")\n"
   ]
  },
  {
   "cell_type": "code",
   "execution_count": 7,
   "id": "bf3f81b7",
   "metadata": {},
   "outputs": [
    {
     "data": {
      "text/html": [
       "<div>\n",
       "<style scoped>\n",
       "    .dataframe tbody tr th:only-of-type {\n",
       "        vertical-align: middle;\n",
       "    }\n",
       "\n",
       "    .dataframe tbody tr th {\n",
       "        vertical-align: top;\n",
       "    }\n",
       "\n",
       "    .dataframe thead th {\n",
       "        text-align: right;\n",
       "    }\n",
       "</style>\n",
       "<table border=\"1\" class=\"dataframe\">\n",
       "  <thead>\n",
       "    <tr style=\"text-align: right;\">\n",
       "      <th></th>\n",
       "      <th>Subject Focus</th>\n",
       "      <th>Eyes</th>\n",
       "      <th>Face</th>\n",
       "      <th>Near</th>\n",
       "      <th>Action</th>\n",
       "      <th>Accessory</th>\n",
       "      <th>Group</th>\n",
       "      <th>Collage</th>\n",
       "      <th>Human</th>\n",
       "      <th>Occlusion</th>\n",
       "      <th>Info</th>\n",
       "      <th>Blur</th>\n",
       "      <th>Pawpularity</th>\n",
       "      <th>path</th>\n",
       "    </tr>\n",
       "  </thead>\n",
       "  <tbody>\n",
       "    <tr>\n",
       "      <th>0</th>\n",
       "      <td>0</td>\n",
       "      <td>0</td>\n",
       "      <td>1</td>\n",
       "      <td>1</td>\n",
       "      <td>0</td>\n",
       "      <td>0</td>\n",
       "      <td>0</td>\n",
       "      <td>0</td>\n",
       "      <td>0</td>\n",
       "      <td>0</td>\n",
       "      <td>0</td>\n",
       "      <td>1</td>\n",
       "      <td>50</td>\n",
       "      <td>src/inputs/train/ebaaa8e384b3d2f0a56c7ff7675c1...</td>\n",
       "    </tr>\n",
       "    <tr>\n",
       "      <th>1</th>\n",
       "      <td>0</td>\n",
       "      <td>1</td>\n",
       "      <td>1</td>\n",
       "      <td>1</td>\n",
       "      <td>0</td>\n",
       "      <td>1</td>\n",
       "      <td>0</td>\n",
       "      <td>1</td>\n",
       "      <td>0</td>\n",
       "      <td>0</td>\n",
       "      <td>1</td>\n",
       "      <td>0</td>\n",
       "      <td>25</td>\n",
       "      <td>src/inputs/train/25e3bf4267c2dc3f579b779418221...</td>\n",
       "    </tr>\n",
       "    <tr>\n",
       "      <th>2</th>\n",
       "      <td>0</td>\n",
       "      <td>0</td>\n",
       "      <td>1</td>\n",
       "      <td>1</td>\n",
       "      <td>0</td>\n",
       "      <td>1</td>\n",
       "      <td>0</td>\n",
       "      <td>0</td>\n",
       "      <td>0</td>\n",
       "      <td>0</td>\n",
       "      <td>0</td>\n",
       "      <td>0</td>\n",
       "      <td>27</td>\n",
       "      <td>src/inputs/train/6548166fb3fda22b67881176397f0...</td>\n",
       "    </tr>\n",
       "    <tr>\n",
       "      <th>3</th>\n",
       "      <td>0</td>\n",
       "      <td>1</td>\n",
       "      <td>1</td>\n",
       "      <td>1</td>\n",
       "      <td>0</td>\n",
       "      <td>0</td>\n",
       "      <td>0</td>\n",
       "      <td>0</td>\n",
       "      <td>1</td>\n",
       "      <td>1</td>\n",
       "      <td>0</td>\n",
       "      <td>0</td>\n",
       "      <td>19</td>\n",
       "      <td>src/inputs/train/472c40116e1833555715e4774445a...</td>\n",
       "    </tr>\n",
       "    <tr>\n",
       "      <th>4</th>\n",
       "      <td>0</td>\n",
       "      <td>1</td>\n",
       "      <td>1</td>\n",
       "      <td>1</td>\n",
       "      <td>0</td>\n",
       "      <td>0</td>\n",
       "      <td>0</td>\n",
       "      <td>1</td>\n",
       "      <td>0</td>\n",
       "      <td>0</td>\n",
       "      <td>0</td>\n",
       "      <td>0</td>\n",
       "      <td>27</td>\n",
       "      <td>src/inputs/train/7b77e1a6d93667b575d57db83facd...</td>\n",
       "    </tr>\n",
       "  </tbody>\n",
       "</table>\n",
       "</div>"
      ],
      "text/plain": [
       "   Subject Focus  Eyes  Face  Near  Action  Accessory  Group  Collage  Human  \\\n",
       "0              0     0     1     1       0          0      0        0      0   \n",
       "1              0     1     1     1       0          1      0        1      0   \n",
       "2              0     0     1     1       0          1      0        0      0   \n",
       "3              0     1     1     1       0          0      0        0      1   \n",
       "4              0     1     1     1       0          0      0        1      0   \n",
       "\n",
       "   Occlusion  Info  Blur  Pawpularity  \\\n",
       "0          0     0     1           50   \n",
       "1          0     1     0           25   \n",
       "2          0     0     0           27   \n",
       "3          1     0     0           19   \n",
       "4          0     0     0           27   \n",
       "\n",
       "                                                path  \n",
       "0  src/inputs/train/ebaaa8e384b3d2f0a56c7ff7675c1...  \n",
       "1  src/inputs/train/25e3bf4267c2dc3f579b779418221...  \n",
       "2  src/inputs/train/6548166fb3fda22b67881176397f0...  \n",
       "3  src/inputs/train/472c40116e1833555715e4774445a...  \n",
       "4  src/inputs/train/7b77e1a6d93667b575d57db83facd...  "
      ]
     },
     "execution_count": 7,
     "metadata": {},
     "output_type": "execute_result"
    }
   ],
   "source": [
    "train_df['path'] = train_df['Id'].map(lambda x:str(BASE_PATH+'train/'+x)+'.jpg')\n",
    "train_df = train_df.drop(columns=['Id'])\n",
    "train_df = train_df.sample(frac=1).reset_index(drop=True) #shuffle dataframe\n",
    "train_df.head()"
   ]
  },
  {
   "cell_type": "code",
   "execution_count": 8,
   "id": "e632d2ed",
   "metadata": {},
   "outputs": [
    {
     "data": {
      "text/html": [
       "<div>\n",
       "<style scoped>\n",
       "    .dataframe tbody tr th:only-of-type {\n",
       "        vertical-align: middle;\n",
       "    }\n",
       "\n",
       "    .dataframe tbody tr th {\n",
       "        vertical-align: top;\n",
       "    }\n",
       "\n",
       "    .dataframe thead th {\n",
       "        text-align: right;\n",
       "    }\n",
       "</style>\n",
       "<table border=\"1\" class=\"dataframe\">\n",
       "  <thead>\n",
       "    <tr style=\"text-align: right;\">\n",
       "      <th></th>\n",
       "      <th>Subject Focus</th>\n",
       "      <th>Eyes</th>\n",
       "      <th>Face</th>\n",
       "      <th>Near</th>\n",
       "      <th>Action</th>\n",
       "      <th>Accessory</th>\n",
       "      <th>Group</th>\n",
       "      <th>Collage</th>\n",
       "      <th>Human</th>\n",
       "      <th>Occlusion</th>\n",
       "      <th>Info</th>\n",
       "      <th>Blur</th>\n",
       "      <th>Pawpularity</th>\n",
       "      <th>path</th>\n",
       "      <th>norm_score</th>\n",
       "    </tr>\n",
       "  </thead>\n",
       "  <tbody>\n",
       "    <tr>\n",
       "      <th>0</th>\n",
       "      <td>0</td>\n",
       "      <td>0</td>\n",
       "      <td>1</td>\n",
       "      <td>1</td>\n",
       "      <td>0</td>\n",
       "      <td>0</td>\n",
       "      <td>0</td>\n",
       "      <td>0</td>\n",
       "      <td>0</td>\n",
       "      <td>0</td>\n",
       "      <td>0</td>\n",
       "      <td>1</td>\n",
       "      <td>50</td>\n",
       "      <td>src/inputs/train/ebaaa8e384b3d2f0a56c7ff7675c1...</td>\n",
       "      <td>0.50</td>\n",
       "    </tr>\n",
       "    <tr>\n",
       "      <th>1</th>\n",
       "      <td>0</td>\n",
       "      <td>1</td>\n",
       "      <td>1</td>\n",
       "      <td>1</td>\n",
       "      <td>0</td>\n",
       "      <td>1</td>\n",
       "      <td>0</td>\n",
       "      <td>1</td>\n",
       "      <td>0</td>\n",
       "      <td>0</td>\n",
       "      <td>1</td>\n",
       "      <td>0</td>\n",
       "      <td>25</td>\n",
       "      <td>src/inputs/train/25e3bf4267c2dc3f579b779418221...</td>\n",
       "      <td>0.25</td>\n",
       "    </tr>\n",
       "    <tr>\n",
       "      <th>2</th>\n",
       "      <td>0</td>\n",
       "      <td>0</td>\n",
       "      <td>1</td>\n",
       "      <td>1</td>\n",
       "      <td>0</td>\n",
       "      <td>1</td>\n",
       "      <td>0</td>\n",
       "      <td>0</td>\n",
       "      <td>0</td>\n",
       "      <td>0</td>\n",
       "      <td>0</td>\n",
       "      <td>0</td>\n",
       "      <td>27</td>\n",
       "      <td>src/inputs/train/6548166fb3fda22b67881176397f0...</td>\n",
       "      <td>0.27</td>\n",
       "    </tr>\n",
       "    <tr>\n",
       "      <th>3</th>\n",
       "      <td>0</td>\n",
       "      <td>1</td>\n",
       "      <td>1</td>\n",
       "      <td>1</td>\n",
       "      <td>0</td>\n",
       "      <td>0</td>\n",
       "      <td>0</td>\n",
       "      <td>0</td>\n",
       "      <td>1</td>\n",
       "      <td>1</td>\n",
       "      <td>0</td>\n",
       "      <td>0</td>\n",
       "      <td>19</td>\n",
       "      <td>src/inputs/train/472c40116e1833555715e4774445a...</td>\n",
       "      <td>0.19</td>\n",
       "    </tr>\n",
       "    <tr>\n",
       "      <th>4</th>\n",
       "      <td>0</td>\n",
       "      <td>1</td>\n",
       "      <td>1</td>\n",
       "      <td>1</td>\n",
       "      <td>0</td>\n",
       "      <td>0</td>\n",
       "      <td>0</td>\n",
       "      <td>1</td>\n",
       "      <td>0</td>\n",
       "      <td>0</td>\n",
       "      <td>0</td>\n",
       "      <td>0</td>\n",
       "      <td>27</td>\n",
       "      <td>src/inputs/train/7b77e1a6d93667b575d57db83facd...</td>\n",
       "      <td>0.27</td>\n",
       "    </tr>\n",
       "  </tbody>\n",
       "</table>\n",
       "</div>"
      ],
      "text/plain": [
       "   Subject Focus  Eyes  Face  Near  Action  Accessory  Group  Collage  Human  \\\n",
       "0              0     0     1     1       0          0      0        0      0   \n",
       "1              0     1     1     1       0          1      0        1      0   \n",
       "2              0     0     1     1       0          1      0        0      0   \n",
       "3              0     1     1     1       0          0      0        0      1   \n",
       "4              0     1     1     1       0          0      0        1      0   \n",
       "\n",
       "   Occlusion  Info  Blur  Pawpularity  \\\n",
       "0          0     0     1           50   \n",
       "1          0     1     0           25   \n",
       "2          0     0     0           27   \n",
       "3          1     0     0           19   \n",
       "4          0     0     0           27   \n",
       "\n",
       "                                                path  norm_score  \n",
       "0  src/inputs/train/ebaaa8e384b3d2f0a56c7ff7675c1...        0.50  \n",
       "1  src/inputs/train/25e3bf4267c2dc3f579b779418221...        0.25  \n",
       "2  src/inputs/train/6548166fb3fda22b67881176397f0...        0.27  \n",
       "3  src/inputs/train/472c40116e1833555715e4774445a...        0.19  \n",
       "4  src/inputs/train/7b77e1a6d93667b575d57db83facd...        0.27  "
      ]
     },
     "execution_count": 8,
     "metadata": {},
     "output_type": "execute_result"
    }
   ],
   "source": [
    "#normalizing \n",
    "train_df['norm_score'] = train_df['Pawpularity']/100\n",
    "train_df.head()"
   ]
  },
  {
   "cell_type": "code",
   "execution_count": 9,
   "id": "5da2c33f",
   "metadata": {},
   "outputs": [
    {
     "data": {
      "text/plain": [
       "<Axes: >"
      ]
     },
     "execution_count": 9,
     "metadata": {},
     "output_type": "execute_result"
    },
    {
     "data": {
      "image/png": "[encoded data removed]",
      "text/plain": [
       "<Figure size 640x480 with 1 Axes>"
      ]
     },
     "metadata": {},
     "output_type": "display_data"
    }
   ],
   "source": [
    "import numpy as np\n",
    "#Sturges' rule\n",
    "num_bins = int(np.floor(1+(3.3)*(np.log2(len(train_df)))))\n",
    "# num_bins\n",
    "train_df['bins'] = pd.cut(train_df['norm_score'], bins=num_bins, labels=False)\n",
    "train_df['bins'].hist()"
   ]
  },
  {
   "cell_type": "code",
   "execution_count": 10,
   "id": "3603c5e7",
   "metadata": {},
   "outputs": [],
   "source": [
    "\n",
    "from sklearn.model_selection import KFold\n",
    "from sklearn.model_selection import StratifiedKFold\n",
    "seed = 999\n",
    "train_df['fold'] = -1\n",
    "\n",
    "N_FOLDS = 10\n",
    "strat_kfold = StratifiedKFold(n_splits=N_FOLDS, random_state=seed, shuffle=True)\n",
    "for i, (_, train_index) in enumerate(strat_kfold.split(train_df.index, train_df['bins'])):\n",
    "    train_df.iloc[train_index, -1] = i\n",
    "    \n",
    "train_df['fold'] = train_df['fold'].astype('int')"
   ]
  },
  {
   "cell_type": "code",
   "execution_count": 11,
   "id": "d03f8012",
   "metadata": {},
   "outputs": [],
   "source": [
    "import torch\n",
    "metadata_glove = torch.zeros(12,50).cuda()\n",
    "metadata_glove[0] = torch.tensor(glove_model['focus'])\n",
    "metadata_glove[1] = torch.tensor(glove_model['eyes'])\n",
    "metadata_glove[2] = torch.tensor(glove_model['face'])\n",
    "metadata_glove[3] = torch.tensor(glove_model['near'])\n",
    "metadata_glove[4] = torch.tensor(glove_model['action'])\n",
    "metadata_glove[5] = torch.tensor(glove_model['accessory'])\n",
    "metadata_glove[6] = torch.tensor(glove_model['group'])\n",
    "metadata_glove[7] = torch.tensor(glove_model['collage'])\n",
    "metadata_glove[8] = torch.tensor(glove_model['human'])\n",
    "metadata_glove[9] = torch.tensor(glove_model['occlusion'])\n",
    "metadata_glove[10] = torch.tensor(glove_model['info'])\n",
    "metadata_glove[11] = torch.tensor(glove_model['blur'])"
   ]
  },
  {
   "cell_type": "code",
   "execution_count": null,
   "id": "5c9cc24e",
   "metadata": {},
   "outputs": [],
   "source": [
    "class PetfinderDataset(Dataset):\n",
    "    def __init__(self, df, transform=None):\n",
    "        self.df = df.reset_index(drop=True)\n",
    "        self.transform = transform\n",
    "      \n",
    "        self.paths = self.df['path'].values\n",
    "        self.metadata = self.df[['Subject Focus', 'Eyes', 'Face', 'Near', 'Action', \n",
    "                                  'Accessory', 'Group', 'Collage', 'Human', 'Occlusion', \n",
    "                                  'Info', 'Blur']].values.astype(np.float32)\n",
    "        self.targets = (self.df['Pawpularity'].values / 100.0).astype(np.float32)\n",
    "        \n",
    "    def __len__(self):\n",
    "        return len(self.df)\n",
    "    \n",
    "    def __getitem__(self, idx):\n",
    "       \n",
    "        image = cv2.imread(self.paths[idx])\n",
    "        image = cv2.cvtColor(image, cv2.COLOR_BGR2RGB)\n",
    "        \n",
    "        if self.transform:\n",
    "            image = self.transform(image=image)['image']\n",
    "        \n",
    "        metadata = torch.from_numpy(self.metadata[idx])\n",
    "        target = torch.tensor(self.targets[idx], dtype=torch.float32)\n",
    "        \n",
    "        return image, metadata, target"
   ]
  },
  {
   "cell_type": "code",
   "execution_count": 13,
   "id": "d426e053",
   "metadata": {},
   "outputs": [],
   "source": [
    "def get_train_transforms():\n",
    "    return A.Compose([\n",
    "        A.Resize(IMAGE_SIZE, IMAGE_SIZE),\n",
    "        A.HorizontalFlip(p=0.5),\n",
    "        A.VerticalFlip(p=0.5),\n",
    "        A.Rotate(limit=15, p=0.5),\n",
    "        A.RandomBrightnessContrast(brightness_limit=0.2, contrast_limit=0.2, p=0.5),\n",
    "        A.HueSaturationValue(hue_shift_limit=10, sat_shift_limit=20, val_shift_limit=10, p=0.5),\n",
    "        A.CoarseDropout(max_holes=8, max_height=32, max_width=32, p=0.5),\n",
    "        A.Normalize(mean=[0.485, 0.456, 0.406], std=[0.229, 0.224, 0.225]),\n",
    "        ToTensorV2()\n",
    "    ])\n",
    "\n",
    "def get_valid_transforms():\n",
    "    return A.Compose([\n",
    "        A.Resize(IMAGE_SIZE, IMAGE_SIZE),\n",
    "        A.Normalize(mean=[0.485, 0.456, 0.406], std=[0.229, 0.224, 0.225]),\n",
    "        ToTensorV2()\n",
    "    ])"
   ]
  },
  {
   "cell_type": "code",
   "execution_count": null,
   "id": "b1f39679",
   "metadata": {},
   "outputs": [],
   "source": [
    "class ImprovedPawpularModel(nn.Module):\n",
    "    def __init__(self, model_name='swin_large_patch4_window7_224', \n",
    "                 pretrained=True, reduction_dim=8):\n",
    "        super().__init__()\n",
    "        \n",
    "      \n",
    "        self.backbone = timm.create_model(model_name, pretrained=pretrained, num_classes=0)\n",
    "        backbone_out_dim = self.backbone.num_features\n",
    "        \n",
    "        # Metadata processing\n",
    "        self.reduce_d = nn.Linear(50, reduction_dim)\n",
    "        \n",
    "        # Calculate high-order feature dimensions\n",
    "        meta_first_order = 12 * reduction_dim\n",
    "        meta_high_order = 12 * 12 * 3\n",
    "        \n",
    "        # Metadata MLP\n",
    "        self.meta_mlp = nn.Sequential(\n",
    "            nn.Linear(meta_first_order + meta_high_order, 256),\n",
    "            nn.BatchNorm1d(256),\n",
    "            nn.ReLU(),\n",
    "            nn.Dropout(0.3),\n",
    "            nn.Linear(256, 128),\n",
    "            nn.BatchNorm1d(128),\n",
    "            nn.ReLU(),\n",
    "            nn.Dropout(0.3)\n",
    "        )\n",
    "        \n",
    "        # Cross-attention between image and metadata \n",
    "        self.cross_attention = nn.MultiheadAttention(\n",
    "            embed_dim=128, num_heads=4, dropout=0.1, batch_first=True\n",
    "        )\n",
    "        \n",
    "        # Image feature projection\n",
    "        self.image_proj = nn.Sequential(\n",
    "            nn.Linear(backbone_out_dim, 256),\n",
    "            nn.BatchNorm1d(256),\n",
    "            nn.ReLU(),\n",
    "            nn.Dropout(0.3),\n",
    "            nn.Linear(256, 128),\n",
    "            nn.BatchNorm1d(128),\n",
    "            nn.ReLU()\n",
    "        )\n",
    "        \n",
    "        # Final fusion head\n",
    "        self.head = nn.Sequential(\n",
    "            nn.Linear(256, 128),\n",
    "            nn.BatchNorm1d(128),\n",
    "            nn.ReLU(),\n",
    "            nn.Dropout(0.5),\n",
    "            nn.Linear(128, 64),\n",
    "            nn.ReLU(),\n",
    "            nn.Dropout(0.3),\n",
    "            nn.Linear(64, 1)\n",
    "        )\n",
    "        \n",
    "    def forward(self, image, metadata):\n",
    "        batch_size = image.size(0)\n",
    "        \n",
    "     \n",
    "        # Process image with backbone\n",
    "        img_features = self.backbone(image)\n",
    "        img_features = self.image_proj(img_features)\n",
    "        \n",
    "        # Process metadata with GloVe embeddings\n",
    "      \n",
    "        embed = metadata.unsqueeze(2) * metadata_glove.unsqueeze(0)\n",
    "        embed_reduce = self.reduce_d(embed)\n",
    "        embed_norm = torch.norm(embed_reduce, dim=2, keepdim=True).clamp(min=1e-8)\n",
    "        embed_reduce = embed_reduce / embed_norm\n",
    "        \n",
    "        # High-order interactions\n",
    "        dot_result = torch.bmm(embed_reduce, embed_reduce.permute(0, 2, 1)).reshape(batch_size, -1)\n",
    "        dot_tanh = torch.tanh(dot_result)\n",
    "        dot_relu = F.relu(dot_result)\n",
    "        dot_sig = torch.sigmoid(dot_result)\n",
    "        \n",
    "        # Combine metadata features\n",
    "        meta_first_order = embed_reduce.reshape(batch_size, -1)\n",
    "        meta_high_order = torch.cat([dot_tanh, dot_relu, dot_sig], dim=1)\n",
    "        meta_all = torch.cat([meta_first_order, meta_high_order], dim=1)\n",
    "        \n",
    "        # Process metadata through MLP\n",
    "        meta_features = self.meta_mlp(meta_all)\n",
    "        \n",
    "        # Cross-attention between metadata and image (NEW)\n",
    "        img_attended, _ = self.cross_attention(\n",
    "            meta_features.unsqueeze(1),\n",
    "            img_features.unsqueeze(1),\n",
    "            img_features.unsqueeze(1)\n",
    "        )\n",
    "        img_attended = img_attended.squeeze(1)\n",
    "        \n",
    "        # combining both image and metadata features\n",
    "        fused = torch.cat([img_attended, meta_features], dim=1)\n",
    "        \n",
    "        # Final prediction\n",
    "        output = self.head(fused)\n",
    "        return output\n"
   ]
  },
  {
   "cell_type": "code",
   "execution_count": 15,
   "id": "5b9b59ec",
   "metadata": {},
   "outputs": [],
   "source": [
    "# Loss and metrics - \n",
    "def rmse_loss(pred, target):\n",
    "    pred = torch.sigmoid(pred.squeeze())\n",
    "    return torch.sqrt(F.mse_loss(pred, target))\n",
    "\n",
    "def calculate_rmse(pred, target):\n",
    "    pred = torch.sigmoid(pred.squeeze())\n",
    "    return 100 * torch.sqrt(F.mse_loss(pred, target)).item()"
   ]
  },
  {
   "cell_type": "code",
   "execution_count": 16,
   "id": "a9214e3e",
   "metadata": {},
   "outputs": [],
   "source": [
    "class EarlyStopping:\n",
    "    def __init__(self, patience=3, min_delta=0):\n",
    "        self.patience = patience\n",
    "        self.min_delta = min_delta\n",
    "        self.counter = 0\n",
    "        self.best_loss = None\n",
    "        self.early_stop = False\n",
    "        \n",
    "    def __call__(self, val_loss):\n",
    "        if self.best_loss is None:\n",
    "            self.best_loss = val_loss\n",
    "        elif val_loss > self.best_loss - self.min_delta:\n",
    "            self.counter += 1\n",
    "            if self.counter >= self.patience:\n",
    "                self.early_stop = True\n",
    "        else:\n",
    "            self.best_loss = val_loss\n",
    "            self.counter = 0"
   ]
  },
  {
   "cell_type": "code",
   "execution_count": 17,
   "id": "2a94f6a7",
   "metadata": {},
   "outputs": [],
   "source": [
    "def train_epoch(model, loader, optimizer, scheduler, device):\n",
    "    model.train()\n",
    "    running_loss = 0.0\n",
    "    \n",
    "    pbar = tqdm(loader, desc='Training')\n",
    "    \n",
    "    for batch_idx, (images, metadata, targets) in enumerate(pbar):\n",
    "        # Move to device\n",
    "        images = images.to(device)\n",
    "        metadata = metadata.to(device)\n",
    "        targets = targets.to(device)\n",
    "        \n",
    "        # Forward pass\n",
    "        optimizer.zero_grad()\n",
    "        outputs = model(images, metadata)\n",
    "        loss = rmse_loss(outputs, targets)\n",
    "        \n",
    "        # Backward pass\n",
    "        loss.backward()\n",
    "        torch.nn.utils.clip_grad_norm_(model.parameters(), max_norm=1.0)\n",
    "        optimizer.step()\n",
    "        \n",
    "        running_loss += loss.item()\n",
    "        \n",
    "        # Update progress bar\n",
    "        pbar.set_postfix({\n",
    "            'loss': f'{loss.item():.4f}',\n",
    "            'gpu_mem': f'{torch.cuda.memory_allocated(device)/1024**2:.0f}MB' if torch.cuda.is_available() else 'N/A'\n",
    "        })\n",
    "    \n",
    "    if scheduler is not None:\n",
    "        scheduler.step()\n",
    "    \n",
    "    return running_loss / len(loader)"
   ]
  },
  {
   "cell_type": "code",
   "execution_count": 18,
   "id": "8698d152",
   "metadata": {},
   "outputs": [],
   "source": [
    "def validate(model, loader, device):\n",
    "    model.eval()\n",
    "    running_loss = 0.0\n",
    "    all_preds = []\n",
    "    all_targets = []\n",
    "    \n",
    "    with torch.no_grad():\n",
    "        for images, metadata, targets in tqdm(loader, desc='Validating'):\n",
    "            images = images.to(device)\n",
    "            metadata = metadata.to(device)\n",
    "            targets = targets.to(device)\n",
    "            \n",
    "            outputs = model(images, metadata)\n",
    "            loss = rmse_loss(outputs, targets)\n",
    "            \n",
    "            running_loss += loss.item()\n",
    "            all_preds.append(outputs.cpu())\n",
    "            all_targets.append(targets.cpu())\n",
    "    \n",
    "    all_preds = torch.cat(all_preds)\n",
    "    all_targets = torch.cat(all_targets)\n",
    "    rmse = calculate_rmse(all_preds, all_targets)\n",
    "    \n",
    "    return running_loss / len(loader), rmse"
   ]
  },
  {
   "cell_type": "code",
   "execution_count": null,
   "id": "e1ad0de9",
   "metadata": {},
   "outputs": [],
   "source": [
    "def train_fold(fold, train_df, val_df, save_dir='models'):\n",
    "    Path(save_dir).mkdir(exist_ok=True)\n",
    "    \n",
    "    print(f\"{'='*50}\")\n",
    "    print(f\"TRAINING FOLD: {fold+1}/{N_FOLDS}\")\n",
    "    print(f\"{'='*50}\")\n",
    "    \n",
    "    # Datasets\n",
    "    train_dataset = PetfinderDataset(train_df, transform=get_train_transforms())\n",
    "    val_dataset = PetfinderDataset(val_df, transform=get_valid_transforms())\n",
    "    \n",
    "    print(f\"Train size: {len(train_dataset)}, Val size: {len(val_dataset)}\")\n",
    "    \n",
    "    \n",
    "    train_loader = DataLoader(\n",
    "        train_dataset, \n",
    "        batch_size=BATCH_SIZE, \n",
    "        shuffle=True,\n",
    "        num_workers=0, \n",
    "        pin_memory=True\n",
    "    )\n",
    "    val_loader = DataLoader(\n",
    "        val_dataset, \n",
    "        batch_size=BATCH_SIZE, \n",
    "        shuffle=False,\n",
    "        num_workers=0,  \n",
    "        pin_memory=True\n",
    "    )\n",
    "    \n",
    "    # Model\n",
    "    model = ImprovedPawpularModel()\n",
    "    model = model.to(DEVICE)\n",
    "    \n",
    "    print(f\"Model on device: {next(model.parameters()).device}\")\n",
    "    \n",
    "   \n",
    "    optimizer = torch.optim.AdamW(\n",
    "        model.parameters(), \n",
    "        lr=LR, \n",
    "        weight_decay=1e-6,\n",
    "        amsgrad=False\n",
    "    )\n",
    "    scheduler = torch.optim.lr_scheduler.CosineAnnealingWarmRestarts(\n",
    "        optimizer, T_0=5, eta_min=1e-7\n",
    "    )\n",
    "    \n",
    "    early_stopping = EarlyStopping(patience=5, min_delta=0.01)\n",
    "    best_rmse = float('inf')\n",
    "    \n",
    "    for epoch in range(1, EPOCHS + 1):\n",
    "        print(f'\\nEpoch {epoch}/{EPOCHS}')\n",
    "        \n",
    "        train_loss = train_epoch(model, train_loader, optimizer, scheduler, DEVICE)\n",
    "        val_loss, val_rmse = validate(model, val_loader, DEVICE)\n",
    "        \n",
    "        print(f'Train Loss: {train_loss:.4f}, Val Loss: {val_loss:.4f}, Val RMSE: {val_rmse:.4f}')\n",
    "        \n",
    "        if torch.cuda.is_available():\n",
    "            torch.cuda.empty_cache()\n",
    "        \n",
    "        # Save best model\n",
    "        if val_rmse < best_rmse:\n",
    "            best_rmse = val_rmse\n",
    "            torch.save({\n",
    "                'epoch': epoch,\n",
    "                'model_state_dict': model.state_dict(),\n",
    "                'optimizer_state_dict': optimizer.state_dict(),\n",
    "                'val_rmse': val_rmse,\n",
    "                'fold': fold\n",
    "            }, f'{save_dir}/model_fold_{fold}_best.pth')\n",
    "            print(f' Saved best model with RMSE: {val_rmse:.4f}')\n",
    "        \n",
    "        early_stopping(val_rmse)\n",
    "        if early_stopping.early_stop:\n",
    "            print(f'Early stopping at epoch {epoch}')\n",
    "            break\n",
    "    \n",
    "    return best_rmse\n"
   ]
  },
  {
   "cell_type": "code",
   "execution_count": 20,
   "id": "9439c6e1",
   "metadata": {},
   "outputs": [
    {
     "name": "stdout",
     "output_type": "stream",
     "text": [
      "\n",
      "==================================================\n",
      "Training Fold 0\n",
      "==================================================\n",
      "==================================================\n",
      "TRAINING FOLD: 1/10\n",
      "==================================================\n",
      "Train size: 8920, Val size: 992\n",
      "Model on device: cuda:0\n",
      "\n",
      "Epoch 1/10\n"
     ]
    },
    {
     "name": "stderr",
     "output_type": "stream",
     "text": [
      "Training: 100%|██████████| 279/279 [24:17<00:00,  5.22s/it, loss=0.2873, gpu_mem=3041MB]\n",
      "Validating: 100%|██████████| 31/31 [00:19<00:00,  1.60it/s]\n"
     ]
    },
    {
     "name": "stdout",
     "output_type": "stream",
     "text": [
      "Train Loss: 0.2611, Val Loss: 0.2263, Val RMSE: 22.7331\n",
      " Saved best model with RMSE: 22.7331\n",
      "\n",
      "Epoch 2/10\n"
     ]
    },
    {
     "name": "stderr",
     "output_type": "stream",
     "text": [
      "Training: 100%|██████████| 279/279 [17:14<00:00,  3.71s/it, loss=0.2251, gpu_mem=3038MB]\n",
      "Validating: 100%|██████████| 31/31 [01:04<00:00,  2.08s/it]\n"
     ]
    },
    {
     "name": "stdout",
     "output_type": "stream",
     "text": [
      "Train Loss: 0.2370, Val Loss: 0.2161, Val RMSE: 21.7298\n",
      " Saved best model with RMSE: 21.7298\n",
      "\n",
      "Epoch 3/10\n"
     ]
    },
    {
     "name": "stderr",
     "output_type": "stream",
     "text": [
      "Training: 100%|██████████| 279/279 [19:14<00:00,  4.14s/it, loss=0.2186, gpu_mem=3036MB]\n",
      "Validating: 100%|██████████| 31/31 [01:14<00:00,  2.42s/it]\n"
     ]
    },
    {
     "name": "stdout",
     "output_type": "stream",
     "text": [
      "Train Loss: 0.2230, Val Loss: 0.2100, Val RMSE: 21.1255\n",
      " Saved best model with RMSE: 21.1255\n",
      "\n",
      "Epoch 4/10\n"
     ]
    },
    {
     "name": "stderr",
     "output_type": "stream",
     "text": [
      "Training: 100%|██████████| 279/279 [16:50<00:00,  3.62s/it, loss=0.1633, gpu_mem=3036MB]\n",
      "Validating: 100%|██████████| 31/31 [00:20<00:00,  1.53it/s]\n"
     ]
    },
    {
     "name": "stdout",
     "output_type": "stream",
     "text": [
      "Train Loss: 0.2163, Val Loss: 0.2055, Val RMSE: 20.6872\n",
      " Saved best model with RMSE: 20.6872\n",
      "\n",
      "Epoch 5/10\n"
     ]
    },
    {
     "name": "stderr",
     "output_type": "stream",
     "text": [
      "Training: 100%|██████████| 279/279 [17:54<00:00,  3.85s/it, loss=0.2066, gpu_mem=3034MB]\n",
      "Validating: 100%|██████████| 31/31 [00:24<00:00,  1.24it/s]\n"
     ]
    },
    {
     "name": "stdout",
     "output_type": "stream",
     "text": [
      "Train Loss: 0.2124, Val Loss: 0.2043, Val RMSE: 20.5622\n",
      " Saved best model with RMSE: 20.5622\n",
      "\n",
      "Epoch 6/10\n"
     ]
    },
    {
     "name": "stderr",
     "output_type": "stream",
     "text": [
      "Training: 100%|██████████| 279/279 [17:22<00:00,  3.74s/it, loss=0.1793, gpu_mem=3036MB]\n",
      "Validating: 100%|██████████| 31/31 [00:21<00:00,  1.42it/s]\n"
     ]
    },
    {
     "name": "stdout",
     "output_type": "stream",
     "text": [
      "Train Loss: 0.2054, Val Loss: 0.1917, Val RMSE: 19.3098\n",
      " Saved best model with RMSE: 19.3098\n",
      "\n",
      "Epoch 7/10\n"
     ]
    },
    {
     "name": "stderr",
     "output_type": "stream",
     "text": [
      "Training: 100%|██████████| 279/279 [17:30<00:00,  3.76s/it, loss=0.1303, gpu_mem=3040MB]\n",
      "Validating: 100%|██████████| 31/31 [00:35<00:00,  1.14s/it]\n"
     ]
    },
    {
     "name": "stdout",
     "output_type": "stream",
     "text": [
      "Train Loss: 0.1957, Val Loss: 0.1861, Val RMSE: 18.7432\n",
      " Saved best model with RMSE: 18.7432\n",
      "\n",
      "Epoch 8/10\n"
     ]
    },
    {
     "name": "stderr",
     "output_type": "stream",
     "text": [
      "Training: 100%|██████████| 279/279 [19:26<00:00,  4.18s/it, loss=0.1488, gpu_mem=3038MB]\n",
      "Validating: 100%|██████████| 31/31 [00:21<00:00,  1.44it/s]\n"
     ]
    },
    {
     "name": "stdout",
     "output_type": "stream",
     "text": [
      "Train Loss: 0.1894, Val Loss: 0.1831, Val RMSE: 18.4528\n",
      " Saved best model with RMSE: 18.4528\n",
      "\n",
      "Epoch 9/10\n"
     ]
    },
    {
     "name": "stderr",
     "output_type": "stream",
     "text": [
      "Training: 100%|██████████| 279/279 [19:06<00:00,  4.11s/it, loss=0.1501, gpu_mem=3036MB]\n",
      "Validating: 100%|██████████| 31/31 [01:05<00:00,  2.10s/it]\n"
     ]
    },
    {
     "name": "stdout",
     "output_type": "stream",
     "text": [
      "Train Loss: 0.1851, Val Loss: 0.1812, Val RMSE: 18.2628\n",
      " Saved best model with RMSE: 18.2628\n",
      "\n",
      "Epoch 10/10\n"
     ]
    },
    {
     "name": "stderr",
     "output_type": "stream",
     "text": [
      "Training: 100%|██████████| 279/279 [18:43<00:00,  4.03s/it, loss=0.1812, gpu_mem=3040MB]\n",
      "Validating: 100%|██████████| 31/31 [00:27<00:00,  1.12it/s]\n"
     ]
    },
    {
     "name": "stdout",
     "output_type": "stream",
     "text": [
      "Train Loss: 0.1850, Val Loss: 0.1807, Val RMSE: 18.2099\n",
      " Saved best model with RMSE: 18.2099\n",
      "\n",
      "Fold 0 - Best Validation RMSE: 18.2099\n",
      "GPU Memory after fold: 2.21 GB\n",
      "\n",
      "==================================================\n",
      "Training Fold 1\n",
      "==================================================\n",
      "==================================================\n",
      "TRAINING FOLD: 2/10\n",
      "==================================================\n",
      "Train size: 8920, Val size: 992\n",
      "Model on device: cuda:0\n",
      "\n",
      "Epoch 1/10\n"
     ]
    },
    {
     "name": "stderr",
     "output_type": "stream",
     "text": [
      "Training: 100%|██████████| 279/279 [16:34<00:00,  3.57s/it, loss=0.2620, gpu_mem=3035MB]\n",
      "Validating: 100%|██████████| 31/31 [00:21<00:00,  1.42it/s]\n"
     ]
    },
    {
     "name": "stdout",
     "output_type": "stream",
     "text": [
      "Train Loss: 0.2229, Val Loss: 0.2151, Val RMSE: 21.7002\n",
      " Saved best model with RMSE: 21.7002\n",
      "\n",
      "Epoch 2/10\n"
     ]
    },
    {
     "name": "stderr",
     "output_type": "stream",
     "text": [
      "Training: 100%|██████████| 279/279 [19:40<00:00,  4.23s/it, loss=0.1893, gpu_mem=3039MB]\n",
      "Validating: 100%|██████████| 31/31 [00:19<00:00,  1.60it/s]\n"
     ]
    },
    {
     "name": "stdout",
     "output_type": "stream",
     "text": [
      "Train Loss: 0.2106, Val Loss: 0.2005, Val RMSE: 20.2630\n",
      " Saved best model with RMSE: 20.2630\n",
      "\n",
      "Epoch 3/10\n"
     ]
    },
    {
     "name": "stderr",
     "output_type": "stream",
     "text": [
      "Training: 100%|██████████| 279/279 [14:18<00:00,  3.08s/it, loss=0.2269, gpu_mem=3039MB]\n",
      "Validating: 100%|██████████| 31/31 [00:24<00:00,  1.25it/s]\n"
     ]
    },
    {
     "name": "stdout",
     "output_type": "stream",
     "text": [
      "Train Loss: 0.2030, Val Loss: 0.1932, Val RMSE: 19.5525\n",
      " Saved best model with RMSE: 19.5525\n",
      "\n",
      "Epoch 4/10\n"
     ]
    },
    {
     "name": "stderr",
     "output_type": "stream",
     "text": [
      "Training: 100%|██████████| 279/279 [16:07<00:00,  3.47s/it, loss=0.1863, gpu_mem=3038MB]\n",
      "Validating: 100%|██████████| 31/31 [00:18<00:00,  1.70it/s]\n"
     ]
    },
    {
     "name": "stdout",
     "output_type": "stream",
     "text": [
      "Train Loss: 0.1973, Val Loss: 0.1880, Val RMSE: 19.0452\n",
      " Saved best model with RMSE: 19.0452\n",
      "\n",
      "Epoch 5/10\n"
     ]
    },
    {
     "name": "stderr",
     "output_type": "stream",
     "text": [
      "Training: 100%|██████████| 279/279 [20:35<00:00,  4.43s/it, loss=0.1447, gpu_mem=3039MB]\n",
      "Validating: 100%|██████████| 31/31 [00:26<00:00,  1.17it/s]\n"
     ]
    },
    {
     "name": "stdout",
     "output_type": "stream",
     "text": [
      "Train Loss: 0.1963, Val Loss: 0.1862, Val RMSE: 18.8715\n",
      " Saved best model with RMSE: 18.8715\n",
      "\n",
      "Epoch 6/10\n"
     ]
    },
    {
     "name": "stderr",
     "output_type": "stream",
     "text": [
      "Training: 100%|██████████| 279/279 [21:40<00:00,  4.66s/it, loss=0.1641, gpu_mem=3040MB]\n",
      "Validating: 100%|██████████| 31/31 [00:21<00:00,  1.41it/s]\n"
     ]
    },
    {
     "name": "stdout",
     "output_type": "stream",
     "text": [
      "Train Loss: 0.1938, Val Loss: 0.1821, Val RMSE: 18.4673\n",
      " Saved best model with RMSE: 18.4673\n",
      "\n",
      "Epoch 7/10\n"
     ]
    },
    {
     "name": "stderr",
     "output_type": "stream",
     "text": [
      "Training: 100%|██████████| 279/279 [19:30<00:00,  4.19s/it, loss=0.1278, gpu_mem=3037MB]\n",
      "Validating: 100%|██████████| 31/31 [00:28<00:00,  1.10it/s]\n"
     ]
    },
    {
     "name": "stdout",
     "output_type": "stream",
     "text": [
      "Train Loss: 0.1895, Val Loss: 0.1772, Val RMSE: 17.9791\n",
      " Saved best model with RMSE: 17.9791\n",
      "\n",
      "Epoch 8/10\n"
     ]
    },
    {
     "name": "stderr",
     "output_type": "stream",
     "text": [
      "Training: 100%|██████████| 279/279 [24:39<00:00,  5.30s/it, loss=0.1583, gpu_mem=3037MB]\n",
      "Validating: 100%|██████████| 31/31 [00:24<00:00,  1.29it/s]\n"
     ]
    },
    {
     "name": "stdout",
     "output_type": "stream",
     "text": [
      "Train Loss: 0.1864, Val Loss: 0.1764, Val RMSE: 17.9015\n",
      " Saved best model with RMSE: 17.9015\n",
      "\n",
      "Epoch 9/10\n"
     ]
    },
    {
     "name": "stderr",
     "output_type": "stream",
     "text": [
      "Training: 100%|██████████| 279/279 [19:49<00:00,  4.26s/it, loss=0.1601, gpu_mem=3037MB]\n",
      "Validating: 100%|██████████| 31/31 [01:05<00:00,  2.11s/it]\n"
     ]
    },
    {
     "name": "stdout",
     "output_type": "stream",
     "text": [
      "Train Loss: 0.1833, Val Loss: 0.1746, Val RMSE: 17.7239\n",
      " Saved best model with RMSE: 17.7239\n",
      "\n",
      "Epoch 10/10\n"
     ]
    },
    {
     "name": "stderr",
     "output_type": "stream",
     "text": [
      "Training: 100%|██████████| 279/279 [19:28<00:00,  4.19s/it, loss=0.1478, gpu_mem=3037MB]\n",
      "Validating: 100%|██████████| 31/31 [00:20<00:00,  1.52it/s]\n"
     ]
    },
    {
     "name": "stdout",
     "output_type": "stream",
     "text": [
      "Train Loss: 0.1816, Val Loss: 0.1732, Val RMSE: 17.5890\n",
      " Saved best model with RMSE: 17.5890\n",
      "\n",
      "Fold 1 - Best Validation RMSE: 17.5890\n",
      "GPU Memory after fold: 2.21 GB\n",
      "\n",
      "==================================================\n",
      "Training Fold 2\n",
      "==================================================\n",
      "==================================================\n",
      "TRAINING FOLD: 3/10\n",
      "==================================================\n",
      "Train size: 8921, Val size: 991\n",
      "Model on device: cuda:0\n",
      "\n",
      "Epoch 1/10\n"
     ]
    },
    {
     "name": "stderr",
     "output_type": "stream",
     "text": [
      "Training: 100%|██████████| 279/279 [21:38<00:00,  4.66s/it, loss=0.2003, gpu_mem=3044MB]\n",
      "Validating: 100%|██████████| 31/31 [00:25<00:00,  1.24it/s]\n"
     ]
    },
    {
     "name": "stdout",
     "output_type": "stream",
     "text": [
      "Train Loss: 0.2257, Val Loss: 0.2136, Val RMSE: 21.5163\n",
      " Saved best model with RMSE: 21.5163\n",
      "\n",
      "Epoch 2/10\n"
     ]
    },
    {
     "name": "stderr",
     "output_type": "stream",
     "text": [
      "Training: 100%|██████████| 279/279 [18:08<00:00,  3.90s/it, loss=0.2132, gpu_mem=3045MB]\n",
      "Validating: 100%|██████████| 31/31 [00:21<00:00,  1.42it/s]\n"
     ]
    },
    {
     "name": "stdout",
     "output_type": "stream",
     "text": [
      "Train Loss: 0.2148, Val Loss: 0.2057, Val RMSE: 20.7391\n",
      " Saved best model with RMSE: 20.7391\n",
      "\n",
      "Epoch 3/10\n"
     ]
    },
    {
     "name": "stderr",
     "output_type": "stream",
     "text": [
      "Training: 100%|██████████| 279/279 [12:30<00:00,  2.69s/it, loss=0.1882, gpu_mem=3048MB]\n",
      "Validating: 100%|██████████| 31/31 [00:19<00:00,  1.58it/s]\n"
     ]
    },
    {
     "name": "stdout",
     "output_type": "stream",
     "text": [
      "Train Loss: 0.2085, Val Loss: 0.1948, Val RMSE: 19.6649\n",
      " Saved best model with RMSE: 19.6649\n",
      "\n",
      "Epoch 4/10\n"
     ]
    },
    {
     "name": "stderr",
     "output_type": "stream",
     "text": [
      "Training: 100%|██████████| 279/279 [14:18<00:00,  3.08s/it, loss=0.1502, gpu_mem=3044MB]\n",
      "Validating: 100%|██████████| 31/31 [00:26<00:00,  1.18it/s]\n"
     ]
    },
    {
     "name": "stdout",
     "output_type": "stream",
     "text": [
      "Train Loss: 0.2018, Val Loss: 0.1945, Val RMSE: 19.6239\n",
      " Saved best model with RMSE: 19.6239\n",
      "\n",
      "Epoch 5/10\n"
     ]
    },
    {
     "name": "stderr",
     "output_type": "stream",
     "text": [
      "Training: 100%|██████████| 279/279 [12:10<00:00,  2.62s/it, loss=0.2357, gpu_mem=3049MB]\n",
      "Validating: 100%|██████████| 31/31 [00:23<00:00,  1.34it/s]\n"
     ]
    },
    {
     "name": "stdout",
     "output_type": "stream",
     "text": [
      "Train Loss: 0.2002, Val Loss: 0.1916, Val RMSE: 19.3493\n",
      " Saved best model with RMSE: 19.3493\n",
      "\n",
      "Epoch 6/10\n"
     ]
    },
    {
     "name": "stderr",
     "output_type": "stream",
     "text": [
      "Training: 100%|██████████| 279/279 [13:48<00:00,  2.97s/it, loss=0.2383, gpu_mem=3044MB]\n",
      "Validating: 100%|██████████| 31/31 [00:26<00:00,  1.19it/s]\n"
     ]
    },
    {
     "name": "stdout",
     "output_type": "stream",
     "text": [
      "Train Loss: 0.1971, Val Loss: 0.1839, Val RMSE: 18.5967\n",
      " Saved best model with RMSE: 18.5967\n",
      "\n",
      "Epoch 7/10\n"
     ]
    },
    {
     "name": "stderr",
     "output_type": "stream",
     "text": [
      "Training: 100%|██████████| 279/279 [12:45<00:00,  2.74s/it, loss=0.1752, gpu_mem=3049MB]\n",
      "Validating: 100%|██████████| 31/31 [00:23<00:00,  1.33it/s]\n"
     ]
    },
    {
     "name": "stdout",
     "output_type": "stream",
     "text": [
      "Train Loss: 0.1919, Val Loss: 0.1808, Val RMSE: 18.2871\n",
      " Saved best model with RMSE: 18.2871\n",
      "\n",
      "Epoch 8/10\n"
     ]
    },
    {
     "name": "stderr",
     "output_type": "stream",
     "text": [
      "Training: 100%|██████████| 279/279 [14:26<00:00,  3.11s/it, loss=0.1529, gpu_mem=3044MB]\n",
      "Validating: 100%|██████████| 31/31 [00:25<00:00,  1.21it/s]\n"
     ]
    },
    {
     "name": "stdout",
     "output_type": "stream",
     "text": [
      "Train Loss: 0.1876, Val Loss: 0.1814, Val RMSE: 18.3455\n",
      "\n",
      "Epoch 9/10\n"
     ]
    },
    {
     "name": "stderr",
     "output_type": "stream",
     "text": [
      "Training: 100%|██████████| 279/279 [12:56<00:00,  2.78s/it, loss=0.1597, gpu_mem=3049MB]\n",
      "Validating: 100%|██████████| 31/31 [00:26<00:00,  1.18it/s]\n"
     ]
    },
    {
     "name": "stdout",
     "output_type": "stream",
     "text": [
      "Train Loss: 0.1854, Val Loss: 0.1794, Val RMSE: 18.1419\n",
      " Saved best model with RMSE: 18.1419\n",
      "\n",
      "Epoch 10/10\n"
     ]
    },
    {
     "name": "stderr",
     "output_type": "stream",
     "text": [
      "Training: 100%|██████████| 279/279 [14:16<00:00,  3.07s/it, loss=0.2075, gpu_mem=3044MB]\n",
      "Validating: 100%|██████████| 31/31 [00:28<00:00,  1.10it/s]\n"
     ]
    },
    {
     "name": "stdout",
     "output_type": "stream",
     "text": [
      "Train Loss: 0.1825, Val Loss: 0.1801, Val RMSE: 18.2092\n",
      "\n",
      "Fold 2 - Best Validation RMSE: 18.1419\n",
      "GPU Memory after fold: 0.02 GB\n",
      "\n",
      "==================================================\n",
      "Training Fold 3\n",
      "==================================================\n",
      "==================================================\n",
      "TRAINING FOLD: 4/10\n",
      "==================================================\n",
      "Train size: 8921, Val size: 991\n",
      "Model on device: cuda:0\n",
      "\n",
      "Epoch 1/10\n"
     ]
    },
    {
     "name": "stderr",
     "output_type": "stream",
     "text": [
      "Training: 100%|██████████| 279/279 [15:43<00:00,  3.38s/it, loss=0.2687, gpu_mem=3046MB]\n",
      "Validating: 100%|██████████| 31/31 [01:05<00:00,  2.11s/it]\n"
     ]
    },
    {
     "name": "stdout",
     "output_type": "stream",
     "text": [
      "Train Loss: 0.2524, Val Loss: 0.2303, Val RMSE: 23.1194\n",
      " Saved best model with RMSE: 23.1194\n",
      "\n",
      "Epoch 2/10\n"
     ]
    },
    {
     "name": "stderr",
     "output_type": "stream",
     "text": [
      "Training: 100%|██████████| 279/279 [15:49<00:00,  3.40s/it, loss=0.2085, gpu_mem=3040MB]\n",
      "Validating: 100%|██████████| 31/31 [00:22<00:00,  1.40it/s]\n"
     ]
    },
    {
     "name": "stdout",
     "output_type": "stream",
     "text": [
      "Train Loss: 0.2292, Val Loss: 0.2138, Val RMSE: 21.5038\n",
      " Saved best model with RMSE: 21.5038\n",
      "\n",
      "Epoch 3/10\n"
     ]
    },
    {
     "name": "stderr",
     "output_type": "stream",
     "text": [
      "Training: 100%|██████████| 279/279 [13:57<00:00,  3.00s/it, loss=0.2094, gpu_mem=3041MB]\n",
      "Validating: 100%|██████████| 31/31 [00:27<00:00,  1.14it/s]\n"
     ]
    },
    {
     "name": "stdout",
     "output_type": "stream",
     "text": [
      "Train Loss: 0.2172, Val Loss: 0.2034, Val RMSE: 20.4841\n",
      " Saved best model with RMSE: 20.4841\n",
      "\n",
      "Epoch 4/10\n"
     ]
    },
    {
     "name": "stderr",
     "output_type": "stream",
     "text": [
      "Training: 100%|██████████| 279/279 [15:41<00:00,  3.37s/it, loss=0.2213, gpu_mem=3039MB]\n",
      "Validating: 100%|██████████| 31/31 [00:24<00:00,  1.29it/s]\n"
     ]
    },
    {
     "name": "stdout",
     "output_type": "stream",
     "text": [
      "Train Loss: 0.2102, Val Loss: 0.1992, Val RMSE: 20.0704\n",
      " Saved best model with RMSE: 20.0704\n",
      "\n",
      "Epoch 5/10\n"
     ]
    },
    {
     "name": "stderr",
     "output_type": "stream",
     "text": [
      "Training: 100%|██████████| 279/279 [15:19<00:00,  3.29s/it, loss=0.2044, gpu_mem=3038MB]\n",
      "Validating: 100%|██████████| 31/31 [00:35<00:00,  1.14s/it]\n"
     ]
    },
    {
     "name": "stdout",
     "output_type": "stream",
     "text": [
      "Train Loss: 0.2077, Val Loss: 0.1969, Val RMSE: 19.8537\n",
      " Saved best model with RMSE: 19.8537\n",
      "\n",
      "Epoch 6/10\n"
     ]
    },
    {
     "name": "stderr",
     "output_type": "stream",
     "text": [
      "Training: 100%|██████████| 279/279 [14:31<00:00,  3.12s/it, loss=0.1275, gpu_mem=3042MB]\n",
      "Validating: 100%|██████████| 31/31 [00:24<00:00,  1.26it/s]\n"
     ]
    },
    {
     "name": "stdout",
     "output_type": "stream",
     "text": [
      "Train Loss: 0.2009, Val Loss: 0.1856, Val RMSE: 18.7471\n",
      " Saved best model with RMSE: 18.7471\n",
      "\n",
      "Epoch 7/10\n"
     ]
    },
    {
     "name": "stderr",
     "output_type": "stream",
     "text": [
      "Training: 100%|██████████| 279/279 [15:29<00:00,  3.33s/it, loss=0.2616, gpu_mem=3041MB]\n",
      "Validating: 100%|██████████| 31/31 [00:21<00:00,  1.44it/s]\n"
     ]
    },
    {
     "name": "stdout",
     "output_type": "stream",
     "text": [
      "Train Loss: 0.1937, Val Loss: 0.1785, Val RMSE: 18.0485\n",
      " Saved best model with RMSE: 18.0485\n",
      "\n",
      "Epoch 8/10\n"
     ]
    },
    {
     "name": "stderr",
     "output_type": "stream",
     "text": [
      "Training: 100%|██████████| 279/279 [18:06<00:00,  3.89s/it, loss=0.1953, gpu_mem=3040MB]\n",
      "Validating: 100%|██████████| 31/31 [00:24<00:00,  1.25it/s]\n"
     ]
    },
    {
     "name": "stdout",
     "output_type": "stream",
     "text": [
      "Train Loss: 0.1893, Val Loss: 0.1762, Val RMSE: 17.8191\n",
      " Saved best model with RMSE: 17.8191\n",
      "\n",
      "Epoch 9/10\n"
     ]
    },
    {
     "name": "stderr",
     "output_type": "stream",
     "text": [
      "Training: 100%|██████████| 279/279 [23:22<00:00,  5.03s/it, loss=0.1927, gpu_mem=3040MB]\n",
      "Validating: 100%|██████████| 31/31 [00:33<00:00,  1.07s/it]\n"
     ]
    },
    {
     "name": "stdout",
     "output_type": "stream",
     "text": [
      "Train Loss: 0.1874, Val Loss: 0.1756, Val RMSE: 17.7733\n",
      " Saved best model with RMSE: 17.7733\n",
      "\n",
      "Epoch 10/10\n"
     ]
    },
    {
     "name": "stderr",
     "output_type": "stream",
     "text": [
      "Training: 100%|██████████| 279/279 [16:38<00:00,  3.58s/it, loss=0.1423, gpu_mem=3042MB]\n",
      "Validating: 100%|██████████| 31/31 [00:28<00:00,  1.09it/s]\n"
     ]
    },
    {
     "name": "stdout",
     "output_type": "stream",
     "text": [
      "Train Loss: 0.1847, Val Loss: 0.1750, Val RMSE: 17.7024\n",
      " Saved best model with RMSE: 17.7024\n",
      "\n",
      "Fold 3 - Best Validation RMSE: 17.7024\n",
      "GPU Memory after fold: 2.21 GB\n",
      "\n",
      "==================================================\n",
      "Training Fold 4\n",
      "==================================================\n",
      "==================================================\n",
      "TRAINING FOLD: 5/10\n",
      "==================================================\n",
      "Train size: 8921, Val size: 991\n",
      "Model on device: cuda:0\n",
      "\n",
      "Epoch 1/10\n"
     ]
    },
    {
     "name": "stderr",
     "output_type": "stream",
     "text": [
      "Training: 100%|██████████| 279/279 [30:15<00:00,  6.51s/it, loss=0.2858, gpu_mem=3045MB]\n",
      "Validating: 100%|██████████| 31/31 [00:24<00:00,  1.25it/s]\n"
     ]
    },
    {
     "name": "stdout",
     "output_type": "stream",
     "text": [
      "Train Loss: 0.2627, Val Loss: 0.2396, Val RMSE: 24.0454\n",
      " Saved best model with RMSE: 24.0454\n",
      "\n",
      "Epoch 2/10\n"
     ]
    },
    {
     "name": "stderr",
     "output_type": "stream",
     "text": [
      "Training: 100%|██████████| 279/279 [14:33<00:00,  3.13s/it, loss=0.2328, gpu_mem=3048MB]\n",
      "Validating: 100%|██████████| 31/31 [00:23<00:00,  1.35it/s]\n"
     ]
    },
    {
     "name": "stdout",
     "output_type": "stream",
     "text": [
      "Train Loss: 0.2375, Val Loss: 0.2227, Val RMSE: 22.3834\n",
      " Saved best model with RMSE: 22.3834\n",
      "\n",
      "Epoch 3/10\n"
     ]
    },
    {
     "name": "stderr",
     "output_type": "stream",
     "text": [
      "Training: 100%|██████████| 279/279 [13:47<00:00,  2.97s/it, loss=0.1882, gpu_mem=3045MB]\n",
      "Validating: 100%|██████████| 31/31 [00:51<00:00,  1.68s/it]\n"
     ]
    },
    {
     "name": "stdout",
     "output_type": "stream",
     "text": [
      "Train Loss: 0.2214, Val Loss: 0.2098, Val RMSE: 21.1011\n",
      " Saved best model with RMSE: 21.1011\n",
      "\n",
      "Epoch 4/10\n"
     ]
    },
    {
     "name": "stderr",
     "output_type": "stream",
     "text": [
      "Training: 100%|██████████| 279/279 [13:00<00:00,  2.80s/it, loss=0.2084, gpu_mem=3049MB]\n",
      "Validating: 100%|██████████| 31/31 [00:24<00:00,  1.28it/s]\n"
     ]
    },
    {
     "name": "stdout",
     "output_type": "stream",
     "text": [
      "Train Loss: 0.2133, Val Loss: 0.2053, Val RMSE: 20.6571\n",
      " Saved best model with RMSE: 20.6571\n",
      "\n",
      "Epoch 5/10\n"
     ]
    },
    {
     "name": "stderr",
     "output_type": "stream",
     "text": [
      "Training: 100%|██████████| 279/279 [14:11<00:00,  3.05s/it, loss=0.2516, gpu_mem=3045MB]\n",
      "Validating: 100%|██████████| 31/31 [00:48<00:00,  1.56s/it]\n"
     ]
    },
    {
     "name": "stdout",
     "output_type": "stream",
     "text": [
      "Train Loss: 0.2102, Val Loss: 0.2045, Val RMSE: 20.5771\n",
      " Saved best model with RMSE: 20.5771\n",
      "\n",
      "Epoch 6/10\n"
     ]
    },
    {
     "name": "stderr",
     "output_type": "stream",
     "text": [
      "Training: 100%|██████████| 279/279 [14:36<00:00,  3.14s/it, loss=0.1986, gpu_mem=3049MB]\n",
      "Validating: 100%|██████████| 31/31 [00:23<00:00,  1.32it/s]\n"
     ]
    },
    {
     "name": "stdout",
     "output_type": "stream",
     "text": [
      "Train Loss: 0.2043, Val Loss: 0.1927, Val RMSE: 19.4392\n",
      " Saved best model with RMSE: 19.4392\n",
      "\n",
      "Epoch 7/10\n"
     ]
    },
    {
     "name": "stderr",
     "output_type": "stream",
     "text": [
      "Training: 100%|██████████| 279/279 [12:36<00:00,  2.71s/it, loss=0.1946, gpu_mem=3045MB]\n",
      "Validating: 100%|██████████| 31/31 [00:23<00:00,  1.31it/s]\n"
     ]
    },
    {
     "name": "stdout",
     "output_type": "stream",
     "text": [
      "Train Loss: 0.1948, Val Loss: 0.1855, Val RMSE: 18.7428\n",
      " Saved best model with RMSE: 18.7428\n",
      "\n",
      "Epoch 8/10\n"
     ]
    },
    {
     "name": "stderr",
     "output_type": "stream",
     "text": [
      "Training: 100%|██████████| 279/279 [15:44<00:00,  3.38s/it, loss=0.2034, gpu_mem=3045MB]\n",
      "Validating: 100%|██████████| 31/31 [00:26<00:00,  1.17it/s]\n"
     ]
    },
    {
     "name": "stdout",
     "output_type": "stream",
     "text": [
      "Train Loss: 0.1898, Val Loss: 0.1821, Val RMSE: 18.4133\n",
      " Saved best model with RMSE: 18.4133\n",
      "\n",
      "Epoch 9/10\n"
     ]
    },
    {
     "name": "stderr",
     "output_type": "stream",
     "text": [
      "Training: 100%|██████████| 279/279 [13:14<00:00,  2.85s/it, loss=0.1956, gpu_mem=3045MB]\n",
      "Validating: 100%|██████████| 31/31 [00:20<00:00,  1.48it/s]\n"
     ]
    },
    {
     "name": "stdout",
     "output_type": "stream",
     "text": [
      "Train Loss: 0.1873, Val Loss: 0.1819, Val RMSE: 18.3937\n",
      " Saved best model with RMSE: 18.3937\n",
      "\n",
      "Epoch 10/10\n"
     ]
    },
    {
     "name": "stderr",
     "output_type": "stream",
     "text": [
      "Training: 100%|██████████| 279/279 [13:45<00:00,  2.96s/it, loss=0.1531, gpu_mem=3045MB]\n",
      "Validating: 100%|██████████| 31/31 [00:23<00:00,  1.32it/s]\n"
     ]
    },
    {
     "name": "stdout",
     "output_type": "stream",
     "text": [
      "Train Loss: 0.1855, Val Loss: 0.1822, Val RMSE: 18.4280\n",
      "\n",
      "Fold 4 - Best Validation RMSE: 18.3937\n",
      "GPU Memory after fold: 0.02 GB\n",
      "\n",
      "==================================================\n",
      "Training Fold 5\n",
      "==================================================\n",
      "==================================================\n",
      "TRAINING FOLD: 6/10\n",
      "==================================================\n",
      "Train size: 8921, Val size: 991\n",
      "Model on device: cuda:0\n",
      "\n",
      "Epoch 1/10\n"
     ]
    },
    {
     "name": "stderr",
     "output_type": "stream",
     "text": [
      "Training: 100%|██████████| 279/279 [17:35<00:00,  3.78s/it, loss=0.2297, gpu_mem=3046MB]\n",
      "Validating: 100%|██████████| 31/31 [01:08<00:00,  2.21s/it]\n"
     ]
    },
    {
     "name": "stdout",
     "output_type": "stream",
     "text": [
      "Train Loss: 0.2184, Val Loss: 0.2093, Val RMSE: 21.0514\n",
      " Saved best model with RMSE: 21.0514\n",
      "\n",
      "Epoch 2/10\n"
     ]
    },
    {
     "name": "stderr",
     "output_type": "stream",
     "text": [
      "Training: 100%|██████████| 279/279 [15:50<00:00,  3.41s/it, loss=0.2479, gpu_mem=3040MB]\n",
      "Validating: 100%|██████████| 31/31 [00:22<00:00,  1.38it/s]\n"
     ]
    },
    {
     "name": "stdout",
     "output_type": "stream",
     "text": [
      "Train Loss: 0.2096, Val Loss: 0.1986, Val RMSE: 20.0002\n",
      " Saved best model with RMSE: 20.0002\n",
      "\n",
      "Epoch 3/10\n"
     ]
    },
    {
     "name": "stderr",
     "output_type": "stream",
     "text": [
      "Training: 100%|██████████| 279/279 [12:44<00:00,  2.74s/it, loss=0.1385, gpu_mem=3041MB]\n",
      "Validating: 100%|██████████| 31/31 [00:26<00:00,  1.15it/s]\n"
     ]
    },
    {
     "name": "stdout",
     "output_type": "stream",
     "text": [
      "Train Loss: 0.2035, Val Loss: 0.1919, Val RMSE: 19.3354\n",
      " Saved best model with RMSE: 19.3354\n",
      "\n",
      "Epoch 4/10\n"
     ]
    },
    {
     "name": "stderr",
     "output_type": "stream",
     "text": [
      "Training: 100%|██████████| 279/279 [15:05<00:00,  3.25s/it, loss=0.2339, gpu_mem=3039MB]\n",
      "Validating: 100%|██████████| 31/31 [00:22<00:00,  1.35it/s]\n"
     ]
    },
    {
     "name": "stdout",
     "output_type": "stream",
     "text": [
      "Train Loss: 0.1980, Val Loss: 0.1876, Val RMSE: 18.9148\n",
      " Saved best model with RMSE: 18.9148\n",
      "\n",
      "Epoch 5/10\n"
     ]
    },
    {
     "name": "stderr",
     "output_type": "stream",
     "text": [
      "Training: 100%|██████████| 279/279 [14:36<00:00,  3.14s/it, loss=0.2075, gpu_mem=3038MB]\n",
      "Validating: 100%|██████████| 31/31 [00:24<00:00,  1.25it/s]\n"
     ]
    },
    {
     "name": "stdout",
     "output_type": "stream",
     "text": [
      "Train Loss: 0.1963, Val Loss: 0.1863, Val RMSE: 18.7878\n",
      " Saved best model with RMSE: 18.7878\n",
      "\n",
      "Epoch 6/10\n"
     ]
    },
    {
     "name": "stderr",
     "output_type": "stream",
     "text": [
      "Training: 100%|██████████| 279/279 [14:52<00:00,  3.20s/it, loss=0.1905, gpu_mem=3042MB]\n",
      "Validating: 100%|██████████| 31/31 [00:22<00:00,  1.35it/s]\n"
     ]
    },
    {
     "name": "stdout",
     "output_type": "stream",
     "text": [
      "Train Loss: 0.1939, Val Loss: 0.1818, Val RMSE: 18.3619\n",
      " Saved best model with RMSE: 18.3619\n",
      "\n",
      "Epoch 7/10\n"
     ]
    },
    {
     "name": "stderr",
     "output_type": "stream",
     "text": [
      "Training: 100%|██████████| 279/279 [16:04<00:00,  3.46s/it, loss=0.2091, gpu_mem=3041MB]\n",
      "Validating: 100%|██████████| 31/31 [00:35<00:00,  1.14s/it]\n"
     ]
    },
    {
     "name": "stdout",
     "output_type": "stream",
     "text": [
      "Train Loss: 0.1889, Val Loss: 0.1781, Val RMSE: 18.0040\n",
      " Saved best model with RMSE: 18.0040\n",
      "\n",
      "Epoch 8/10\n"
     ]
    },
    {
     "name": "stderr",
     "output_type": "stream",
     "text": [
      "Training: 100%|██████████| 279/279 [17:43<00:00,  3.81s/it, loss=0.1426, gpu_mem=3040MB]\n",
      "Validating: 100%|██████████| 31/31 [00:27<00:00,  1.12it/s]\n"
     ]
    },
    {
     "name": "stdout",
     "output_type": "stream",
     "text": [
      "Train Loss: 0.1865, Val Loss: 0.1778, Val RMSE: 17.9589\n",
      " Saved best model with RMSE: 17.9589\n",
      "\n",
      "Epoch 9/10\n"
     ]
    },
    {
     "name": "stderr",
     "output_type": "stream",
     "text": [
      "Training: 100%|██████████| 279/279 [24:07<00:00,  5.19s/it, loss=0.2252, gpu_mem=3040MB]\n",
      "Validating: 100%|██████████| 31/31 [00:40<00:00,  1.32s/it]\n"
     ]
    },
    {
     "name": "stdout",
     "output_type": "stream",
     "text": [
      "Train Loss: 0.1829, Val Loss: 0.1744, Val RMSE: 17.6688\n",
      " Saved best model with RMSE: 17.6688\n",
      "\n",
      "Epoch 10/10\n"
     ]
    },
    {
     "name": "stderr",
     "output_type": "stream",
     "text": [
      "Training: 100%|██████████| 279/279 [16:50<00:00,  3.62s/it, loss=0.1795, gpu_mem=3042MB]\n",
      "Validating: 100%|██████████| 31/31 [00:26<00:00,  1.15it/s]\n"
     ]
    },
    {
     "name": "stdout",
     "output_type": "stream",
     "text": [
      "Train Loss: 0.1805, Val Loss: 0.1752, Val RMSE: 17.7374\n",
      "\n",
      "Fold 5 - Best Validation RMSE: 17.6688\n",
      "GPU Memory after fold: 2.21 GB\n",
      "\n",
      "==================================================\n",
      "Training Fold 6\n",
      "==================================================\n",
      "==================================================\n",
      "TRAINING FOLD: 7/10\n",
      "==================================================\n",
      "Train size: 8921, Val size: 991\n",
      "Model on device: cuda:0\n",
      "\n",
      "Epoch 1/10\n"
     ]
    },
    {
     "name": "stderr",
     "output_type": "stream",
     "text": [
      "Training: 100%|██████████| 279/279 [26:41<00:00,  5.74s/it, loss=0.2001, gpu_mem=5300MB]\n",
      "Validating: 100%|██████████| 31/31 [01:08<00:00,  2.21s/it]\n"
     ]
    },
    {
     "name": "stdout",
     "output_type": "stream",
     "text": [
      "Train Loss: 0.2525, Val Loss: 0.2430, Val RMSE: 24.3560\n",
      " Saved best model with RMSE: 24.3560\n",
      "\n",
      "Epoch 2/10\n"
     ]
    },
    {
     "name": "stderr",
     "output_type": "stream",
     "text": [
      "Training: 100%|██████████| 279/279 [30:42<00:00,  6.61s/it, loss=0.1852, gpu_mem=5293MB]\n",
      "Validating: 100%|██████████| 31/31 [00:25<00:00,  1.23it/s]\n"
     ]
    },
    {
     "name": "stdout",
     "output_type": "stream",
     "text": [
      "Train Loss: 0.2316, Val Loss: 0.2261, Val RMSE: 22.6787\n",
      " Saved best model with RMSE: 22.6787\n",
      "\n",
      "Epoch 3/10\n"
     ]
    },
    {
     "name": "stderr",
     "output_type": "stream",
     "text": [
      "Training: 100%|██████████| 279/279 [27:19<00:00,  5.88s/it, loss=0.2031, gpu_mem=5293MB]\n",
      "Validating: 100%|██████████| 31/31 [00:38<00:00,  1.23s/it]\n"
     ]
    },
    {
     "name": "stdout",
     "output_type": "stream",
     "text": [
      "Train Loss: 0.2175, Val Loss: 0.2146, Val RMSE: 21.5443\n",
      " Saved best model with RMSE: 21.5443\n",
      "\n",
      "Epoch 4/10\n"
     ]
    },
    {
     "name": "stderr",
     "output_type": "stream",
     "text": [
      "Training: 100%|██████████| 279/279 [30:37<00:00,  6.59s/it, loss=0.1712, gpu_mem=5296MB]\n",
      "Validating: 100%|██████████| 31/31 [00:31<00:00,  1.03s/it]\n"
     ]
    },
    {
     "name": "stdout",
     "output_type": "stream",
     "text": [
      "Train Loss: 0.2106, Val Loss: 0.2088, Val RMSE: 20.9663\n",
      " Saved best model with RMSE: 20.9663\n",
      "\n",
      "Epoch 5/10\n"
     ]
    },
    {
     "name": "stderr",
     "output_type": "stream",
     "text": [
      "Training: 100%|██████████| 279/279 [26:36<00:00,  5.72s/it, loss=0.1612, gpu_mem=5296MB]\n",
      "Validating: 100%|██████████| 31/31 [00:32<00:00,  1.05s/it]\n"
     ]
    },
    {
     "name": "stdout",
     "output_type": "stream",
     "text": [
      "Train Loss: 0.2063, Val Loss: 0.2055, Val RMSE: 20.6442\n",
      " Saved best model with RMSE: 20.6442\n",
      "\n",
      "Epoch 6/10\n"
     ]
    },
    {
     "name": "stderr",
     "output_type": "stream",
     "text": [
      "Training: 100%|██████████| 279/279 [28:26<00:00,  6.12s/it, loss=0.1415, gpu_mem=5296MB]\n",
      "Validating: 100%|██████████| 31/31 [00:28<00:00,  1.08it/s]\n"
     ]
    },
    {
     "name": "stdout",
     "output_type": "stream",
     "text": [
      "Train Loss: 0.2003, Val Loss: 0.1935, Val RMSE: 19.4706\n",
      " Saved best model with RMSE: 19.4706\n",
      "\n",
      "Epoch 7/10\n"
     ]
    },
    {
     "name": "stderr",
     "output_type": "stream",
     "text": [
      "Training: 100%|██████████| 279/279 [25:29<00:00,  5.48s/it, loss=0.1789, gpu_mem=5296MB]\n",
      "Validating: 100%|██████████| 31/31 [00:28<00:00,  1.10it/s]\n"
     ]
    },
    {
     "name": "stdout",
     "output_type": "stream",
     "text": [
      "Train Loss: 0.1939, Val Loss: 0.1880, Val RMSE: 18.9450\n",
      " Saved best model with RMSE: 18.9450\n",
      "\n",
      "Epoch 8/10\n"
     ]
    },
    {
     "name": "stderr",
     "output_type": "stream",
     "text": [
      "Training: 100%|██████████| 279/279 [25:48<00:00,  5.55s/it, loss=0.1793, gpu_mem=5296MB]\n",
      "Validating: 100%|██████████| 31/31 [00:25<00:00,  1.20it/s]\n"
     ]
    },
    {
     "name": "stdout",
     "output_type": "stream",
     "text": [
      "Train Loss: 0.1886, Val Loss: 0.1840, Val RMSE: 18.5538\n",
      " Saved best model with RMSE: 18.5538\n",
      "\n",
      "Epoch 9/10\n"
     ]
    },
    {
     "name": "stderr",
     "output_type": "stream",
     "text": [
      "Training: 100%|██████████| 279/279 [26:16<00:00,  5.65s/it, loss=0.1916, gpu_mem=5296MB]\n",
      "Validating: 100%|██████████| 31/31 [00:36<00:00,  1.19s/it]\n"
     ]
    },
    {
     "name": "stdout",
     "output_type": "stream",
     "text": [
      "Train Loss: 0.1870, Val Loss: 0.1843, Val RMSE: 18.5875\n",
      "\n",
      "Epoch 10/10\n"
     ]
    },
    {
     "name": "stderr",
     "output_type": "stream",
     "text": [
      "Training: 100%|██████████| 279/279 [25:34<00:00,  5.50s/it, loss=0.2397, gpu_mem=5296MB]\n",
      "Validating: 100%|██████████| 31/31 [00:29<00:00,  1.05it/s]\n"
     ]
    },
    {
     "name": "stdout",
     "output_type": "stream",
     "text": [
      "Train Loss: 0.1852, Val Loss: 0.1835, Val RMSE: 18.5029\n",
      " Saved best model with RMSE: 18.5029\n",
      "\n",
      "Fold 6 - Best Validation RMSE: 18.5029\n",
      "GPU Memory after fold: 4.41 GB\n",
      "\n",
      "==================================================\n",
      "Training Fold 7\n",
      "==================================================\n",
      "==================================================\n",
      "TRAINING FOLD: 8/10\n",
      "==================================================\n",
      "Train size: 8921, Val size: 991\n",
      "Model on device: cuda:0\n",
      "\n",
      "Epoch 1/10\n"
     ]
    },
    {
     "name": "stderr",
     "output_type": "stream",
     "text": [
      "Training: 100%|██████████| 279/279 [33:34<00:00,  7.22s/it, loss=0.2183, gpu_mem=5295MB]\n",
      "Validating: 100%|██████████| 31/31 [02:17<00:00,  4.43s/it]\n"
     ]
    },
    {
     "name": "stdout",
     "output_type": "stream",
     "text": [
      "Train Loss: 0.2175, Val Loss: 0.2094, Val RMSE: 21.1718\n",
      " Saved best model with RMSE: 21.1718\n",
      "\n",
      "Epoch 2/10\n"
     ]
    },
    {
     "name": "stderr",
     "output_type": "stream",
     "text": [
      "Training: 100%|██████████| 279/279 [24:32<00:00,  5.28s/it, loss=0.2665, gpu_mem=5293MB]\n",
      "Validating: 100%|██████████| 31/31 [01:17<00:00,  2.50s/it]\n"
     ]
    },
    {
     "name": "stdout",
     "output_type": "stream",
     "text": [
      "Train Loss: 0.2087, Val Loss: 0.2004, Val RMSE: 20.3097\n",
      " Saved best model with RMSE: 20.3097\n",
      "\n",
      "Epoch 3/10\n"
     ]
    },
    {
     "name": "stderr",
     "output_type": "stream",
     "text": [
      "Training: 100%|██████████| 279/279 [26:11<00:00,  5.63s/it, loss=0.1952, gpu_mem=5293MB]\n",
      "Validating: 100%|██████████| 31/31 [01:46<00:00,  3.43s/it]\n"
     ]
    },
    {
     "name": "stdout",
     "output_type": "stream",
     "text": [
      "Train Loss: 0.2029, Val Loss: 0.1926, Val RMSE: 19.5613\n",
      " Saved best model with RMSE: 19.5613\n",
      "\n",
      "Epoch 4/10\n"
     ]
    },
    {
     "name": "stderr",
     "output_type": "stream",
     "text": [
      "Training: 100%|██████████| 279/279 [27:33<00:00,  5.93s/it, loss=0.2030, gpu_mem=5293MB]\n",
      "Validating: 100%|██████████| 31/31 [01:46<00:00,  3.44s/it]\n"
     ]
    },
    {
     "name": "stdout",
     "output_type": "stream",
     "text": [
      "Train Loss: 0.1983, Val Loss: 0.1886, Val RMSE: 19.1738\n",
      " Saved best model with RMSE: 19.1738\n",
      "\n",
      "Epoch 5/10\n"
     ]
    },
    {
     "name": "stderr",
     "output_type": "stream",
     "text": [
      "Training: 100%|██████████| 279/279 [26:50<00:00,  5.77s/it, loss=0.2148, gpu_mem=5293MB]\n",
      "Validating: 100%|██████████| 31/31 [01:42<00:00,  3.31s/it]\n"
     ]
    },
    {
     "name": "stdout",
     "output_type": "stream",
     "text": [
      "Train Loss: 0.1978, Val Loss: 0.1876, Val RMSE: 19.0696\n",
      " Saved best model with RMSE: 19.0696\n",
      "\n",
      "Epoch 6/10\n"
     ]
    },
    {
     "name": "stderr",
     "output_type": "stream",
     "text": [
      "Training: 100%|██████████| 279/279 [28:08<00:00,  6.05s/it, loss=0.2160, gpu_mem=5293MB]\n",
      "Validating: 100%|██████████| 31/31 [01:40<00:00,  3.24s/it]\n"
     ]
    },
    {
     "name": "stdout",
     "output_type": "stream",
     "text": [
      "Train Loss: 0.1929, Val Loss: 0.1820, Val RMSE: 18.5093\n",
      " Saved best model with RMSE: 18.5093\n",
      "\n",
      "Epoch 7/10\n"
     ]
    },
    {
     "name": "stderr",
     "output_type": "stream",
     "text": [
      "Training: 100%|██████████| 279/279 [27:24<00:00,  5.89s/it, loss=0.1266, gpu_mem=5293MB]\n",
      "Validating: 100%|██████████| 31/31 [01:36<00:00,  3.10s/it]\n"
     ]
    },
    {
     "name": "stdout",
     "output_type": "stream",
     "text": [
      "Train Loss: 0.1869, Val Loss: 0.1798, Val RMSE: 18.2739\n",
      " Saved best model with RMSE: 18.2739\n",
      "\n",
      "Epoch 8/10\n"
     ]
    },
    {
     "name": "stderr",
     "output_type": "stream",
     "text": [
      "Training: 100%|██████████| 279/279 [28:31<00:00,  6.14s/it, loss=0.1814, gpu_mem=5293MB]\n",
      "Validating: 100%|██████████| 31/31 [01:50<00:00,  3.57s/it]\n"
     ]
    },
    {
     "name": "stdout",
     "output_type": "stream",
     "text": [
      "Train Loss: 0.1849, Val Loss: 0.1780, Val RMSE: 18.1089\n",
      " Saved best model with RMSE: 18.1089\n",
      "\n",
      "Epoch 9/10\n"
     ]
    },
    {
     "name": "stderr",
     "output_type": "stream",
     "text": [
      "Training: 100%|██████████| 279/279 [25:32<00:00,  5.49s/it, loss=0.2114, gpu_mem=5293MB]\n",
      "Validating: 100%|██████████| 31/31 [01:07<00:00,  2.19s/it]\n"
     ]
    },
    {
     "name": "stdout",
     "output_type": "stream",
     "text": [
      "Train Loss: 0.1811, Val Loss: 0.1785, Val RMSE: 18.1310\n",
      "\n",
      "Epoch 10/10\n"
     ]
    },
    {
     "name": "stderr",
     "output_type": "stream",
     "text": [
      "Training: 100%|██████████| 279/279 [26:48<00:00,  5.76s/it, loss=0.2157, gpu_mem=5293MB]\n",
      "Validating: 100%|██████████| 31/31 [01:34<00:00,  3.05s/it]\n"
     ]
    },
    {
     "name": "stdout",
     "output_type": "stream",
     "text": [
      "Train Loss: 0.1799, Val Loss: 0.1764, Val RMSE: 17.9659\n",
      " Saved best model with RMSE: 17.9659\n",
      "\n",
      "Fold 7 - Best Validation RMSE: 17.9659\n",
      "GPU Memory after fold: 4.41 GB\n",
      "\n",
      "==================================================\n",
      "Training Fold 8\n",
      "==================================================\n",
      "==================================================\n",
      "TRAINING FOLD: 9/10\n",
      "==================================================\n",
      "Train size: 8921, Val size: 991\n",
      "Model on device: cuda:0\n",
      "\n",
      "Epoch 1/10\n"
     ]
    },
    {
     "name": "stderr",
     "output_type": "stream",
     "text": [
      "Training: 100%|██████████| 279/279 [34:53<00:00,  7.50s/it, loss=0.1974, gpu_mem=5300MB]\n",
      "Validating: 100%|██████████| 31/31 [02:09<00:00,  4.18s/it]\n"
     ]
    },
    {
     "name": "stdout",
     "output_type": "stream",
     "text": [
      "Train Loss: 0.2363, Val Loss: 0.2222, Val RMSE: 22.3435\n",
      " Saved best model with RMSE: 22.3435\n",
      "\n",
      "Epoch 2/10\n"
     ]
    },
    {
     "name": "stderr",
     "output_type": "stream",
     "text": [
      "Training: 100%|██████████| 279/279 [37:33<00:00,  8.08s/it, loss=0.1841, gpu_mem=5299MB]\n",
      "Validating: 100%|██████████| 31/31 [01:21<00:00,  2.64s/it]\n"
     ]
    },
    {
     "name": "stdout",
     "output_type": "stream",
     "text": [
      "Train Loss: 0.2192, Val Loss: 0.2030, Val RMSE: 20.4550\n",
      " Saved best model with RMSE: 20.4550\n",
      "\n",
      "Epoch 3/10\n"
     ]
    },
    {
     "name": "stderr",
     "output_type": "stream",
     "text": [
      "Training: 100%|██████████| 279/279 [36:22<00:00,  7.82s/it, loss=0.1919, gpu_mem=5294MB]\n",
      "Validating: 100%|██████████| 31/31 [01:12<00:00,  2.35s/it]\n"
     ]
    },
    {
     "name": "stdout",
     "output_type": "stream",
     "text": [
      "Train Loss: 0.2064, Val Loss: 0.1951, Val RMSE: 19.6771\n",
      " Saved best model with RMSE: 19.6771\n",
      "\n",
      "Epoch 4/10\n"
     ]
    },
    {
     "name": "stderr",
     "output_type": "stream",
     "text": [
      "Training: 100%|██████████| 279/279 [35:46<00:00,  7.69s/it, loss=0.1689, gpu_mem=5298MB]\n",
      "Validating: 100%|██████████| 31/31 [01:13<00:00,  2.36s/it]\n"
     ]
    },
    {
     "name": "stdout",
     "output_type": "stream",
     "text": [
      "Train Loss: 0.2019, Val Loss: 0.1904, Val RMSE: 19.2228\n",
      " Saved best model with RMSE: 19.2228\n",
      "\n",
      "Epoch 5/10\n"
     ]
    },
    {
     "name": "stderr",
     "output_type": "stream",
     "text": [
      "Training: 100%|██████████| 279/279 [33:30<00:00,  7.20s/it, loss=0.1792, gpu_mem=5297MB]\n",
      "Validating: 100%|██████████| 31/31 [00:58<00:00,  1.90s/it]\n"
     ]
    },
    {
     "name": "stdout",
     "output_type": "stream",
     "text": [
      "Train Loss: 0.1986, Val Loss: 0.1911, Val RMSE: 19.2861\n",
      "\n",
      "Epoch 6/10\n"
     ]
    },
    {
     "name": "stderr",
     "output_type": "stream",
     "text": [
      "Training: 100%|██████████| 279/279 [29:06<00:00,  6.26s/it, loss=0.1932, gpu_mem=5294MB]\n",
      "Validating: 100%|██████████| 31/31 [01:30<00:00,  2.93s/it]\n"
     ]
    },
    {
     "name": "stdout",
     "output_type": "stream",
     "text": [
      "Train Loss: 0.1950, Val Loss: 0.1845, Val RMSE: 18.6470\n",
      " Saved best model with RMSE: 18.6470\n",
      "\n",
      "Epoch 7/10\n"
     ]
    },
    {
     "name": "stderr",
     "output_type": "stream",
     "text": [
      "Training: 100%|██████████| 279/279 [31:44<00:00,  6.83s/it, loss=0.1850, gpu_mem=5295MB]\n",
      "Validating: 100%|██████████| 31/31 [00:59<00:00,  1.91s/it]\n"
     ]
    },
    {
     "name": "stdout",
     "output_type": "stream",
     "text": [
      "Train Loss: 0.1905, Val Loss: 0.1785, Val RMSE: 18.0417\n",
      " Saved best model with RMSE: 18.0417\n",
      "\n",
      "Epoch 8/10\n"
     ]
    },
    {
     "name": "stderr",
     "output_type": "stream",
     "text": [
      "Training: 100%|██████████| 279/279 [30:34<00:00,  6.57s/it, loss=0.1884, gpu_mem=5295MB]\n",
      "Validating: 100%|██████████| 31/31 [01:02<00:00,  2.01s/it]\n"
     ]
    },
    {
     "name": "stdout",
     "output_type": "stream",
     "text": [
      "Train Loss: 0.1873, Val Loss: 0.1787, Val RMSE: 18.0437\n",
      "\n",
      "Epoch 9/10\n"
     ]
    },
    {
     "name": "stderr",
     "output_type": "stream",
     "text": [
      "Training: 100%|██████████| 279/279 [33:07<00:00,  7.12s/it, loss=0.1914, gpu_mem=5300MB]\n",
      "Validating: 100%|██████████| 31/31 [01:05<00:00,  2.12s/it]\n"
     ]
    },
    {
     "name": "stdout",
     "output_type": "stream",
     "text": [
      "Train Loss: 0.1839, Val Loss: 0.1764, Val RMSE: 17.8353\n",
      " Saved best model with RMSE: 17.8353\n",
      "\n",
      "Epoch 10/10\n"
     ]
    },
    {
     "name": "stderr",
     "output_type": "stream",
     "text": [
      "Training: 100%|██████████| 279/279 [37:29<00:00,  8.06s/it, loss=0.1308, gpu_mem=5295MB]\n",
      "Validating: 100%|██████████| 31/31 [01:00<00:00,  1.96s/it]\n"
     ]
    },
    {
     "name": "stdout",
     "output_type": "stream",
     "text": [
      "Train Loss: 0.1814, Val Loss: 0.1774, Val RMSE: 17.9360\n",
      "\n",
      "Fold 8 - Best Validation RMSE: 17.8353\n",
      "GPU Memory after fold: 2.21 GB\n",
      "\n",
      "==================================================\n",
      "Training Fold 9\n",
      "==================================================\n",
      "==================================================\n",
      "TRAINING FOLD: 10/10\n",
      "==================================================\n",
      "Train size: 8921, Val size: 991\n",
      "Model on device: cuda:0\n",
      "\n",
      "Epoch 1/10\n"
     ]
    },
    {
     "name": "stderr",
     "output_type": "stream",
     "text": [
      "Training: 100%|██████████| 279/279 [30:58<00:00,  6.66s/it, loss=0.2331, gpu_mem=5300MB]\n",
      "Validating: 100%|██████████| 31/31 [01:30<00:00,  2.92s/it]\n"
     ]
    },
    {
     "name": "stdout",
     "output_type": "stream",
     "text": [
      "Train Loss: 0.2389, Val Loss: 0.2169, Val RMSE: 21.8304\n",
      " Saved best model with RMSE: 21.8304\n",
      "\n",
      "Epoch 2/10\n"
     ]
    },
    {
     "name": "stderr",
     "output_type": "stream",
     "text": [
      "Training: 100%|██████████| 279/279 [34:42<00:00,  7.46s/it, loss=0.1952, gpu_mem=5293MB]\n",
      "Validating: 100%|██████████| 31/31 [00:26<00:00,  1.17it/s]\n"
     ]
    },
    {
     "name": "stdout",
     "output_type": "stream",
     "text": [
      "Train Loss: 0.2204, Val Loss: 0.2036, Val RMSE: 20.5149\n",
      " Saved best model with RMSE: 20.5149\n",
      "\n",
      "Epoch 3/10\n"
     ]
    },
    {
     "name": "stderr",
     "output_type": "stream",
     "text": [
      "Training: 100%|██████████| 279/279 [28:20<00:00,  6.09s/it, loss=0.2225, gpu_mem=5293MB]\n",
      "Validating: 100%|██████████| 31/31 [00:55<00:00,  1.79s/it]\n"
     ]
    },
    {
     "name": "stdout",
     "output_type": "stream",
     "text": [
      "Train Loss: 0.2101, Val Loss: 0.1938, Val RMSE: 19.5533\n",
      " Saved best model with RMSE: 19.5533\n",
      "\n",
      "Epoch 4/10\n"
     ]
    },
    {
     "name": "stderr",
     "output_type": "stream",
     "text": [
      "Training: 100%|██████████| 279/279 [32:07<00:00,  6.91s/it, loss=0.1668, gpu_mem=5296MB]\n",
      "Validating: 100%|██████████| 31/31 [00:32<00:00,  1.05s/it]\n"
     ]
    },
    {
     "name": "stdout",
     "output_type": "stream",
     "text": [
      "Train Loss: 0.2033, Val Loss: 0.1886, Val RMSE: 19.0443\n",
      " Saved best model with RMSE: 19.0443\n",
      "\n",
      "Epoch 5/10\n"
     ]
    },
    {
     "name": "stderr",
     "output_type": "stream",
     "text": [
      "Training: 100%|██████████| 279/279 [27:13<00:00,  5.86s/it, loss=0.1353, gpu_mem=5296MB]\n",
      "Validating: 100%|██████████| 31/31 [00:34<00:00,  1.12s/it]\n"
     ]
    },
    {
     "name": "stdout",
     "output_type": "stream",
     "text": [
      "Train Loss: 0.2002, Val Loss: 0.1886, Val RMSE: 19.0378\n",
      " Saved best model with RMSE: 19.0378\n",
      "\n",
      "Epoch 6/10\n"
     ]
    },
    {
     "name": "stderr",
     "output_type": "stream",
     "text": [
      "Training: 100%|██████████| 279/279 [27:00<00:00,  5.81s/it, loss=0.1843, gpu_mem=5296MB]\n",
      "Validating: 100%|██████████| 31/31 [00:29<00:00,  1.04it/s]\n"
     ]
    },
    {
     "name": "stdout",
     "output_type": "stream",
     "text": [
      "Train Loss: 0.1973, Val Loss: 0.1804, Val RMSE: 18.2299\n",
      " Saved best model with RMSE: 18.2299\n",
      "\n",
      "Epoch 7/10\n"
     ]
    },
    {
     "name": "stderr",
     "output_type": "stream",
     "text": [
      "Training: 100%|██████████| 279/279 [25:59<00:00,  5.59s/it, loss=0.2130, gpu_mem=5296MB]\n",
      "Validating: 100%|██████████| 31/31 [00:30<00:00,  1.01it/s]\n"
     ]
    },
    {
     "name": "stdout",
     "output_type": "stream",
     "text": [
      "Train Loss: 0.1912, Val Loss: 0.1759, Val RMSE: 17.7893\n",
      " Saved best model with RMSE: 17.7893\n",
      "\n",
      "Epoch 8/10\n"
     ]
    },
    {
     "name": "stderr",
     "output_type": "stream",
     "text": [
      "Training: 100%|██████████| 279/279 [26:55<00:00,  5.79s/it, loss=0.1478, gpu_mem=5296MB]\n",
      "Validating: 100%|██████████| 31/31 [00:28<00:00,  1.11it/s]\n"
     ]
    },
    {
     "name": "stdout",
     "output_type": "stream",
     "text": [
      "Train Loss: 0.1882, Val Loss: 0.1740, Val RMSE: 17.6190\n",
      " Saved best model with RMSE: 17.6190\n",
      "\n",
      "Epoch 9/10\n"
     ]
    },
    {
     "name": "stderr",
     "output_type": "stream",
     "text": [
      "Training: 100%|██████████| 279/279 [28:31<00:00,  6.13s/it, loss=0.1523, gpu_mem=5296MB]\n",
      "Validating: 100%|██████████| 31/31 [00:35<00:00,  1.16s/it]\n"
     ]
    },
    {
     "name": "stdout",
     "output_type": "stream",
     "text": [
      "Train Loss: 0.1857, Val Loss: 0.1739, Val RMSE: 17.5806\n",
      " Saved best model with RMSE: 17.5806\n",
      "\n",
      "Epoch 10/10\n"
     ]
    },
    {
     "name": "stderr",
     "output_type": "stream",
     "text": [
      "Training: 100%|██████████| 279/279 [27:32<00:00,  5.92s/it, loss=0.1989, gpu_mem=5296MB]\n",
      "Validating: 100%|██████████| 31/31 [00:29<00:00,  1.05it/s]\n"
     ]
    },
    {
     "name": "stdout",
     "output_type": "stream",
     "text": [
      "Train Loss: 0.1838, Val Loss: 0.1732, Val RMSE: 17.5257\n",
      " Saved best model with RMSE: 17.5257\n",
      "\n",
      "Fold 9 - Best Validation RMSE: 17.5257\n",
      "GPU Memory after fold: 4.41 GB\n",
      "\n",
      "==================================================\n",
      "Training Complete!\n",
      "==================================================\n",
      "Fold 0: RMSE = 18.2099\n",
      "Fold 1: RMSE = 17.5890\n",
      "Fold 2: RMSE = 18.1419\n",
      "Fold 3: RMSE = 17.7024\n",
      "Fold 4: RMSE = 18.3937\n",
      "Fold 5: RMSE = 17.6688\n",
      "Fold 6: RMSE = 18.5029\n",
      "Fold 7: RMSE = 17.9659\n",
      "Fold 8: RMSE = 17.8353\n",
      "Fold 9: RMSE = 17.5257\n",
      "\n",
      "Final Average Validation RMSE: 17.9535\n"
     ]
    }
   ],
   "source": [
    "results = []\n",
    "\n",
    "for fold in range(N_FOLDS):\n",
    "    print(f'\\n{\"=\"*50}')\n",
    "    print(f'Training Fold {fold}')\n",
    "    print(f'{\"=\"*50}')\n",
    "    \n",
    "    train_fold_df = train_df[train_df['fold'] != fold].reset_index(drop=True)\n",
    "    val_fold_df = train_df[train_df['fold'] == fold].reset_index(drop=True)\n",
    "    \n",
    "    best_rmse = train_fold(fold, train_fold_df, val_fold_df)\n",
    "    \n",
    "    results.append({\n",
    "        'fold': fold,\n",
    "        'validation_rmse': best_rmse\n",
    "    })\n",
    "    \n",
    "    print(f'\\nFold {fold} - Best Validation RMSE: {best_rmse:.4f}')\n",
    "    \n",
    "    # Clear GPU cache between folds\n",
    "    if torch.cuda.is_available():\n",
    "        torch.cuda.empty_cache()\n",
    "        print(f\"GPU Memory after fold: {torch.cuda.memory_allocated()/1024**3:.2f} GB\")\n",
    "\n",
    "# Summary\n",
    "print(f'\\n{\"=\"*50}')\n",
    "print('Training Complete!')\n",
    "print(f'{\"=\"*50}')\n",
    "\n",
    "for result in results:\n",
    "    print(f\"Fold {result['fold']}: RMSE = {result['validation_rmse']:.4f}\")\n",
    "\n",
    "avg_rmse = np.mean([r['validation_rmse'] for r in results])\n",
    "print(f'\\nFinal Average Validation RMSE: {avg_rmse:.4f}')\n",
    "\n",
    "results.append({\n",
    "    'fold': 'average',\n",
    "    'validation_rmse': avg_rmse\n",
    "})\n"
   ]
  },
  {
   "cell_type": "code",
   "execution_count": null,
   "id": "87cc2f5c",
   "metadata": {},
   "outputs": [],
   "source": []
  },
  {
   "cell_type": "markdown",
   "id": "e09401cb",
   "metadata": {},
   "source": []
  }
 ],
 "metadata": {
  "kernelspec": {
   "display_name": "Python 3",
   "language": "python",
   "name": "python3"
  },
  "language_info": {
   "codemirror_mode": {
    "name": "ipython",
    "version": 3
   },
   "file_extension": ".py",
   "mimetype": "text/x-python",
   "name": "python",
   "nbconvert_exporter": "python",
   "pygments_lexer": "ipython3",
   "version": "3.13.7"
  }
 },
 "nbformat": 4,
 "nbformat_minor": 5
}
